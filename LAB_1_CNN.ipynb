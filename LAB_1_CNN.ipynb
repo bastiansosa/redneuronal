{
 "cells": [
  {
   "cell_type": "code",
   "execution_count": 46,
   "metadata": {},
   "outputs": [
    {
     "name": "stdout",
     "output_type": "stream",
     "text": [
      "modules loaded\n"
     ]
    }
   ],
   "source": [
    "# Importar las librerias del sistema\n",
    "import os\n",
    "import time\n",
    "import shutil\n",
    "import pathlib\n",
    "import itertools\n",
    "\n",
    "# Importar herramientas para tratar los datos\n",
    "import numpy as np\n",
    "import pandas as pd\n",
    "import seaborn as sns\n",
    "sns.set_style('darkgrid')\n",
    "import matplotlib.pyplot as plt\n",
    "import missingno as msno\n",
    "from plotly.subplots import make_subplots\n",
    "import plotly.graph_objects as go\n",
    "import plotly.express as px\n",
    "from plotly.offline import iplot\n",
    "from sklearn.model_selection import train_test_split\n",
    "from sklearn.metrics import confusion_matrix, classification_report\n",
    "from sklearn.metrics import roc_curve, roc_auc_score\n",
    "from sklearn.metrics import precision_recall_curve, average_precision_score\n",
    "from sklearn.metrics import det_curve, f1_score\n",
    "\n",
    "# Importar librerías de Machine Learning\n",
    "import tensorflow as tf\n",
    "from tensorflow import keras\n",
    "from imblearn.over_sampling import RandomOverSampler\n",
    "from sklearn.utils import shuffle\n",
    "from keras.layers import Reshape\n",
    "from tensorflow.keras.models import Sequential\n",
    "from tensorflow.keras.optimizers import Adam, Adamax\n",
    "from tensorflow.keras.metrics import categorical_crossentropy\n",
    "from tensorflow.keras.preprocessing.image import ImageDataGenerator\n",
    "from tensorflow.keras.layers import Conv2D, MaxPooling2D, Flatten, Dense, Activation, Dropout, BatchNormalization\n",
    "from tensorflow.keras import regularizers\n",
    "\n",
    "#Para ocupar el modelo guardado\n",
    "from tensorflow.keras.models import save_model, load_model\n",
    "\n",
    "#Librerias para pruebas del modelo\n",
    "import cv2\n",
    "import requests\n",
    "from io import BytesIO\n",
    "from PIL import Image\n",
    "\n",
    "# Ignorar advertencias\n",
    "import warnings\n",
    "warnings.filterwarnings(\"ignore\")\n",
    "\n",
    "print ('modules loaded')"
   ]
  },
  {
   "cell_type": "code",
   "execution_count": 47,
   "metadata": {},
   "outputs": [
    {
     "data": {
      "text/plain": [
       "[PhysicalDevice(name='/physical_device:CPU:0', device_type='CPU'),\n",
       " PhysicalDevice(name='/physical_device:GPU:0', device_type='GPU')]"
      ]
     },
     "execution_count": 47,
     "metadata": {},
     "output_type": "execute_result"
    }
   ],
   "source": [
    "tf.config.experimental.list_physical_devices()\n",
    "# tf.keras.backend.clear_session()"
   ]
  },
  {
   "cell_type": "code",
   "execution_count": 48,
   "metadata": {},
   "outputs": [],
   "source": [
    "# Datos\n",
    "data_path = '/Users/Public/CUB_200_2011/images'"
   ]
  },
  {
   "cell_type": "code",
   "execution_count": 49,
   "metadata": {},
   "outputs": [],
   "source": [
    "##funciones para dar direccion y ruta a los archivos\n",
    "\n",
    "#Devolver los marcos de datos de entrenamiento y prueba, incluida la ruta de la imagen de 2 columnas y su etiqueta\n",
    "def main(train_data_path):\n",
    "    for dirs in [train_data_path]:\n",
    "        filepaths = []\n",
    "        labels = []\n",
    "        classes_list = sorted(os.listdir(dirs))\n",
    "        filepaths, labels = get_fileList(classes_list, dirs, filepaths, labels)\n",
    "        train_df = obtain_train_df(filepaths, labels)\n",
    "\n",
    "    ll1, ll2 = np.unique(labels, return_inverse=True)\n",
    "    labels = np.where(np.logical_and(ll2 >= 158, ll2 <= 182), 1, 0)\n",
    "    train_df['label'] = [(ii) for ii in labels]\n",
    "\n",
    "    return train_df\n",
    "\n",
    "#Devolver la lista de rutas de archivos, incluidas todas las rutas de imagenes comletadas y la etiqueta de cada una\n",
    "def get_fileList(classes_list, dirs, filepaths, labels):\n",
    "    for s_class in classes_list:\n",
    "        label = s_class\n",
    "        classpath = os.path.join(dirs, s_class)\n",
    "        flist = sorted(os.listdir(classpath))\n",
    "        store_image_names_and_its_labels(flist, classpath, filepaths, labels, label)\n",
    "\n",
    "        #ll1, ll2 = np.unique(labels, return_inverse=True)\n",
    "        #labels = int(np.logical_or(np.logical_or(ll2==73,ll2==74),ll2==75))\n",
    "\n",
    "    return filepaths, labels\n",
    "# No denuevle nada, llena la lista de rutas de archivo con todas las rutas de imagenes y sus etiquetas\n",
    "def store_image_names_and_its_labels(flist, classpath, filepaths, labels, label):\n",
    "    for file in flist:\n",
    "        file_path = os.path.join(classpath, file)\n",
    "        filepaths.append(file_path)\n",
    "        labels.append(label)\n",
    "\n",
    "# El marco de datos de retorno con 2 columnas contiene cada ruta de imagen con su etiqueta\n",
    "def obtain_train_df(filepaths, labels):\n",
    "    train_df = pd.DataFrame({\n",
    "        'image_path' : filepaths,\n",
    "        'label' : labels\n",
    "    })\n",
    "    return train_df\n"
   ]
  },
  {
   "cell_type": "code",
   "execution_count": 50,
   "metadata": {},
   "outputs": [
    {
     "data": {
      "text/html": [
       "<div>\n",
       "<style scoped>\n",
       "    .dataframe tbody tr th:only-of-type {\n",
       "        vertical-align: middle;\n",
       "    }\n",
       "\n",
       "    .dataframe tbody tr th {\n",
       "        vertical-align: top;\n",
       "    }\n",
       "\n",
       "    .dataframe thead th {\n",
       "        text-align: right;\n",
       "    }\n",
       "</style>\n",
       "<table border=\"1\" class=\"dataframe\">\n",
       "  <thead>\n",
       "    <tr style=\"text-align: right;\">\n",
       "      <th></th>\n",
       "      <th>image_path</th>\n",
       "      <th>label</th>\n",
       "    </tr>\n",
       "  </thead>\n",
       "  <tbody>\n",
       "    <tr>\n",
       "      <th>0</th>\n",
       "      <td>/Users/Public/CUB_200_2011/images\\001.Black_fo...</td>\n",
       "      <td>0</td>\n",
       "    </tr>\n",
       "    <tr>\n",
       "      <th>1</th>\n",
       "      <td>/Users/Public/CUB_200_2011/images\\001.Black_fo...</td>\n",
       "      <td>0</td>\n",
       "    </tr>\n",
       "    <tr>\n",
       "      <th>2</th>\n",
       "      <td>/Users/Public/CUB_200_2011/images\\001.Black_fo...</td>\n",
       "      <td>0</td>\n",
       "    </tr>\n",
       "    <tr>\n",
       "      <th>3</th>\n",
       "      <td>/Users/Public/CUB_200_2011/images\\001.Black_fo...</td>\n",
       "      <td>0</td>\n",
       "    </tr>\n",
       "    <tr>\n",
       "      <th>4</th>\n",
       "      <td>/Users/Public/CUB_200_2011/images\\001.Black_fo...</td>\n",
       "      <td>0</td>\n",
       "    </tr>\n",
       "    <tr>\n",
       "      <th>5</th>\n",
       "      <td>/Users/Public/CUB_200_2011/images\\001.Black_fo...</td>\n",
       "      <td>0</td>\n",
       "    </tr>\n",
       "    <tr>\n",
       "      <th>6</th>\n",
       "      <td>/Users/Public/CUB_200_2011/images\\001.Black_fo...</td>\n",
       "      <td>0</td>\n",
       "    </tr>\n",
       "    <tr>\n",
       "      <th>7</th>\n",
       "      <td>/Users/Public/CUB_200_2011/images\\001.Black_fo...</td>\n",
       "      <td>0</td>\n",
       "    </tr>\n",
       "    <tr>\n",
       "      <th>8</th>\n",
       "      <td>/Users/Public/CUB_200_2011/images\\001.Black_fo...</td>\n",
       "      <td>0</td>\n",
       "    </tr>\n",
       "    <tr>\n",
       "      <th>9</th>\n",
       "      <td>/Users/Public/CUB_200_2011/images\\001.Black_fo...</td>\n",
       "      <td>0</td>\n",
       "    </tr>\n",
       "  </tbody>\n",
       "</table>\n",
       "</div>"
      ],
      "text/plain": [
       "                                          image_path  label\n",
       "0  /Users/Public/CUB_200_2011/images\\001.Black_fo...      0\n",
       "1  /Users/Public/CUB_200_2011/images\\001.Black_fo...      0\n",
       "2  /Users/Public/CUB_200_2011/images\\001.Black_fo...      0\n",
       "3  /Users/Public/CUB_200_2011/images\\001.Black_fo...      0\n",
       "4  /Users/Public/CUB_200_2011/images\\001.Black_fo...      0\n",
       "5  /Users/Public/CUB_200_2011/images\\001.Black_fo...      0\n",
       "6  /Users/Public/CUB_200_2011/images\\001.Black_fo...      0\n",
       "7  /Users/Public/CUB_200_2011/images\\001.Black_fo...      0\n",
       "8  /Users/Public/CUB_200_2011/images\\001.Black_fo...      0\n",
       "9  /Users/Public/CUB_200_2011/images\\001.Black_fo...      0"
      ]
     },
     "execution_count": 50,
     "metadata": {},
     "output_type": "execute_result"
    }
   ],
   "source": [
    "data_df = main(data_path)\n",
    "data_df.head(10)"
   ]
  },
  {
   "cell_type": "code",
   "execution_count": 51,
   "metadata": {},
   "outputs": [
    {
     "name": "stdout",
     "output_type": "stream",
     "text": [
      "Forma del dataset:  (11788, 2)\n",
      "_______________________________________\n",
      "Número de valores nulos: \n",
      "image_path    0\n",
      "label         0\n",
      "dtype: int64\n",
      "_______________________________________\n",
      "Número de valores únicos: \n",
      "image_path    11788\n",
      "label             2\n",
      "dtype: int64\n"
     ]
    }
   ],
   "source": [
    "data_df = main(data_path)\n",
    "print(\"Forma del dataset: \", data_df.shape)\n",
    "print(\"_______________________________________\")\n",
    "print(\"Número de valores nulos: \")\n",
    "print(data_df.isnull().sum())\n",
    "print(\"_______________________________________\")\n",
    "print(\"Número de valores únicos: \")\n",
    "print(data_df.nunique())"
   ]
  },
  {
   "cell_type": "code",
   "execution_count": 52,
   "metadata": {},
   "outputs": [
    {
     "data": {
      "application/vnd.plotly.v1+json": {
       "config": {
        "linkText": "Export to plot.ly",
        "plotlyServerURL": "https://plot.ly",
        "showLink": false
       },
       "data": [
        {
         "marker": {
          "color": [
           "#494BD3",
           "#E28AE2",
           "#F1F481",
           "#79DB80",
           "#DF5F5F",
           "#69DADE",
           "#C2E37D",
           "#E26580",
           "#D39F49",
           "#B96FE3"
          ],
          "line": {
           "color": "#DBE6EC",
           "width": 1
          }
         },
         "name": "label",
         "showlegend": false,
         "text": [
          "10298",
          "1490"
         ],
         "textfont": {
          "size": 15
         },
         "textposition": "auto",
         "type": "bar",
         "x": [
          "0",
          "1"
         ],
         "xaxis": "x",
         "y": [
          10298,
          1490
         ],
         "yaxis": "y"
        },
        {
         "domain": {
          "x": [
           0.55,
           1
          ],
          "y": [
           0,
           1
          ]
         },
         "labels": [
          0,
          1
         ],
         "marker": {
          "colors": [
           "#494BD3",
           "#E28AE2",
           "#F1F481",
           "#79DB80",
           "#DF5F5F",
           "#69DADE",
           "#C2E37D",
           "#E26580",
           "#D39F49",
           "#B96FE3"
          ]
         },
         "name": "label",
         "showlegend": false,
         "textfont": {
          "size": 20
         },
         "textposition": "auto",
         "type": "pie",
         "values": [
          10298,
          1490
         ]
        }
       ],
       "layout": {
        "annotations": [
         {
          "font": {
           "size": 16
          },
          "showarrow": false,
          "text": "Countplot",
          "x": 0.225,
          "xanchor": "center",
          "xref": "paper",
          "y": 1,
          "yanchor": "bottom",
          "yref": "paper"
         },
         {
          "font": {
           "size": 16
          },
          "showarrow": false,
          "text": "Percentages",
          "x": 0.775,
          "xanchor": "center",
          "xref": "paper",
          "y": 1,
          "yanchor": "bottom",
          "yref": "paper"
         }
        ],
        "template": {
         "data": {
          "bar": [
           {
            "error_x": {
             "color": "#2a3f5f"
            },
            "error_y": {
             "color": "#2a3f5f"
            },
            "marker": {
             "line": {
              "color": "white",
              "width": 0.5
             },
             "pattern": {
              "fillmode": "overlay",
              "size": 10,
              "solidity": 0.2
             }
            },
            "type": "bar"
           }
          ],
          "barpolar": [
           {
            "marker": {
             "line": {
              "color": "white",
              "width": 0.5
             },
             "pattern": {
              "fillmode": "overlay",
              "size": 10,
              "solidity": 0.2
             }
            },
            "type": "barpolar"
           }
          ],
          "carpet": [
           {
            "aaxis": {
             "endlinecolor": "#2a3f5f",
             "gridcolor": "#C8D4E3",
             "linecolor": "#C8D4E3",
             "minorgridcolor": "#C8D4E3",
             "startlinecolor": "#2a3f5f"
            },
            "baxis": {
             "endlinecolor": "#2a3f5f",
             "gridcolor": "#C8D4E3",
             "linecolor": "#C8D4E3",
             "minorgridcolor": "#C8D4E3",
             "startlinecolor": "#2a3f5f"
            },
            "type": "carpet"
           }
          ],
          "choropleth": [
           {
            "colorbar": {
             "outlinewidth": 0,
             "ticks": ""
            },
            "type": "choropleth"
           }
          ],
          "contour": [
           {
            "colorbar": {
             "outlinewidth": 0,
             "ticks": ""
            },
            "colorscale": [
             [
              0,
              "#0d0887"
             ],
             [
              0.1111111111111111,
              "#46039f"
             ],
             [
              0.2222222222222222,
              "#7201a8"
             ],
             [
              0.3333333333333333,
              "#9c179e"
             ],
             [
              0.4444444444444444,
              "#bd3786"
             ],
             [
              0.5555555555555556,
              "#d8576b"
             ],
             [
              0.6666666666666666,
              "#ed7953"
             ],
             [
              0.7777777777777778,
              "#fb9f3a"
             ],
             [
              0.8888888888888888,
              "#fdca26"
             ],
             [
              1,
              "#f0f921"
             ]
            ],
            "type": "contour"
           }
          ],
          "contourcarpet": [
           {
            "colorbar": {
             "outlinewidth": 0,
             "ticks": ""
            },
            "type": "contourcarpet"
           }
          ],
          "heatmap": [
           {
            "colorbar": {
             "outlinewidth": 0,
             "ticks": ""
            },
            "colorscale": [
             [
              0,
              "#0d0887"
             ],
             [
              0.1111111111111111,
              "#46039f"
             ],
             [
              0.2222222222222222,
              "#7201a8"
             ],
             [
              0.3333333333333333,
              "#9c179e"
             ],
             [
              0.4444444444444444,
              "#bd3786"
             ],
             [
              0.5555555555555556,
              "#d8576b"
             ],
             [
              0.6666666666666666,
              "#ed7953"
             ],
             [
              0.7777777777777778,
              "#fb9f3a"
             ],
             [
              0.8888888888888888,
              "#fdca26"
             ],
             [
              1,
              "#f0f921"
             ]
            ],
            "type": "heatmap"
           }
          ],
          "heatmapgl": [
           {
            "colorbar": {
             "outlinewidth": 0,
             "ticks": ""
            },
            "colorscale": [
             [
              0,
              "#0d0887"
             ],
             [
              0.1111111111111111,
              "#46039f"
             ],
             [
              0.2222222222222222,
              "#7201a8"
             ],
             [
              0.3333333333333333,
              "#9c179e"
             ],
             [
              0.4444444444444444,
              "#bd3786"
             ],
             [
              0.5555555555555556,
              "#d8576b"
             ],
             [
              0.6666666666666666,
              "#ed7953"
             ],
             [
              0.7777777777777778,
              "#fb9f3a"
             ],
             [
              0.8888888888888888,
              "#fdca26"
             ],
             [
              1,
              "#f0f921"
             ]
            ],
            "type": "heatmapgl"
           }
          ],
          "histogram": [
           {
            "marker": {
             "pattern": {
              "fillmode": "overlay",
              "size": 10,
              "solidity": 0.2
             }
            },
            "type": "histogram"
           }
          ],
          "histogram2d": [
           {
            "colorbar": {
             "outlinewidth": 0,
             "ticks": ""
            },
            "colorscale": [
             [
              0,
              "#0d0887"
             ],
             [
              0.1111111111111111,
              "#46039f"
             ],
             [
              0.2222222222222222,
              "#7201a8"
             ],
             [
              0.3333333333333333,
              "#9c179e"
             ],
             [
              0.4444444444444444,
              "#bd3786"
             ],
             [
              0.5555555555555556,
              "#d8576b"
             ],
             [
              0.6666666666666666,
              "#ed7953"
             ],
             [
              0.7777777777777778,
              "#fb9f3a"
             ],
             [
              0.8888888888888888,
              "#fdca26"
             ],
             [
              1,
              "#f0f921"
             ]
            ],
            "type": "histogram2d"
           }
          ],
          "histogram2dcontour": [
           {
            "colorbar": {
             "outlinewidth": 0,
             "ticks": ""
            },
            "colorscale": [
             [
              0,
              "#0d0887"
             ],
             [
              0.1111111111111111,
              "#46039f"
             ],
             [
              0.2222222222222222,
              "#7201a8"
             ],
             [
              0.3333333333333333,
              "#9c179e"
             ],
             [
              0.4444444444444444,
              "#bd3786"
             ],
             [
              0.5555555555555556,
              "#d8576b"
             ],
             [
              0.6666666666666666,
              "#ed7953"
             ],
             [
              0.7777777777777778,
              "#fb9f3a"
             ],
             [
              0.8888888888888888,
              "#fdca26"
             ],
             [
              1,
              "#f0f921"
             ]
            ],
            "type": "histogram2dcontour"
           }
          ],
          "mesh3d": [
           {
            "colorbar": {
             "outlinewidth": 0,
             "ticks": ""
            },
            "type": "mesh3d"
           }
          ],
          "parcoords": [
           {
            "line": {
             "colorbar": {
              "outlinewidth": 0,
              "ticks": ""
             }
            },
            "type": "parcoords"
           }
          ],
          "pie": [
           {
            "automargin": true,
            "type": "pie"
           }
          ],
          "scatter": [
           {
            "fillpattern": {
             "fillmode": "overlay",
             "size": 10,
             "solidity": 0.2
            },
            "type": "scatter"
           }
          ],
          "scatter3d": [
           {
            "line": {
             "colorbar": {
              "outlinewidth": 0,
              "ticks": ""
             }
            },
            "marker": {
             "colorbar": {
              "outlinewidth": 0,
              "ticks": ""
             }
            },
            "type": "scatter3d"
           }
          ],
          "scattercarpet": [
           {
            "marker": {
             "colorbar": {
              "outlinewidth": 0,
              "ticks": ""
             }
            },
            "type": "scattercarpet"
           }
          ],
          "scattergeo": [
           {
            "marker": {
             "colorbar": {
              "outlinewidth": 0,
              "ticks": ""
             }
            },
            "type": "scattergeo"
           }
          ],
          "scattergl": [
           {
            "marker": {
             "colorbar": {
              "outlinewidth": 0,
              "ticks": ""
             }
            },
            "type": "scattergl"
           }
          ],
          "scattermapbox": [
           {
            "marker": {
             "colorbar": {
              "outlinewidth": 0,
              "ticks": ""
             }
            },
            "type": "scattermapbox"
           }
          ],
          "scatterpolar": [
           {
            "marker": {
             "colorbar": {
              "outlinewidth": 0,
              "ticks": ""
             }
            },
            "type": "scatterpolar"
           }
          ],
          "scatterpolargl": [
           {
            "marker": {
             "colorbar": {
              "outlinewidth": 0,
              "ticks": ""
             }
            },
            "type": "scatterpolargl"
           }
          ],
          "scatterternary": [
           {
            "marker": {
             "colorbar": {
              "outlinewidth": 0,
              "ticks": ""
             }
            },
            "type": "scatterternary"
           }
          ],
          "surface": [
           {
            "colorbar": {
             "outlinewidth": 0,
             "ticks": ""
            },
            "colorscale": [
             [
              0,
              "#0d0887"
             ],
             [
              0.1111111111111111,
              "#46039f"
             ],
             [
              0.2222222222222222,
              "#7201a8"
             ],
             [
              0.3333333333333333,
              "#9c179e"
             ],
             [
              0.4444444444444444,
              "#bd3786"
             ],
             [
              0.5555555555555556,
              "#d8576b"
             ],
             [
              0.6666666666666666,
              "#ed7953"
             ],
             [
              0.7777777777777778,
              "#fb9f3a"
             ],
             [
              0.8888888888888888,
              "#fdca26"
             ],
             [
              1,
              "#f0f921"
             ]
            ],
            "type": "surface"
           }
          ],
          "table": [
           {
            "cells": {
             "fill": {
              "color": "#EBF0F8"
             },
             "line": {
              "color": "white"
             }
            },
            "header": {
             "fill": {
              "color": "#C8D4E3"
             },
             "line": {
              "color": "white"
             }
            },
            "type": "table"
           }
          ]
         },
         "layout": {
          "annotationdefaults": {
           "arrowcolor": "#2a3f5f",
           "arrowhead": 0,
           "arrowwidth": 1
          },
          "autotypenumbers": "strict",
          "coloraxis": {
           "colorbar": {
            "outlinewidth": 0,
            "ticks": ""
           }
          },
          "colorscale": {
           "diverging": [
            [
             0,
             "#8e0152"
            ],
            [
             0.1,
             "#c51b7d"
            ],
            [
             0.2,
             "#de77ae"
            ],
            [
             0.3,
             "#f1b6da"
            ],
            [
             0.4,
             "#fde0ef"
            ],
            [
             0.5,
             "#f7f7f7"
            ],
            [
             0.6,
             "#e6f5d0"
            ],
            [
             0.7,
             "#b8e186"
            ],
            [
             0.8,
             "#7fbc41"
            ],
            [
             0.9,
             "#4d9221"
            ],
            [
             1,
             "#276419"
            ]
           ],
           "sequential": [
            [
             0,
             "#0d0887"
            ],
            [
             0.1111111111111111,
             "#46039f"
            ],
            [
             0.2222222222222222,
             "#7201a8"
            ],
            [
             0.3333333333333333,
             "#9c179e"
            ],
            [
             0.4444444444444444,
             "#bd3786"
            ],
            [
             0.5555555555555556,
             "#d8576b"
            ],
            [
             0.6666666666666666,
             "#ed7953"
            ],
            [
             0.7777777777777778,
             "#fb9f3a"
            ],
            [
             0.8888888888888888,
             "#fdca26"
            ],
            [
             1,
             "#f0f921"
            ]
           ],
           "sequentialminus": [
            [
             0,
             "#0d0887"
            ],
            [
             0.1111111111111111,
             "#46039f"
            ],
            [
             0.2222222222222222,
             "#7201a8"
            ],
            [
             0.3333333333333333,
             "#9c179e"
            ],
            [
             0.4444444444444444,
             "#bd3786"
            ],
            [
             0.5555555555555556,
             "#d8576b"
            ],
            [
             0.6666666666666666,
             "#ed7953"
            ],
            [
             0.7777777777777778,
             "#fb9f3a"
            ],
            [
             0.8888888888888888,
             "#fdca26"
            ],
            [
             1,
             "#f0f921"
            ]
           ]
          },
          "colorway": [
           "#636efa",
           "#EF553B",
           "#00cc96",
           "#ab63fa",
           "#FFA15A",
           "#19d3f3",
           "#FF6692",
           "#B6E880",
           "#FF97FF",
           "#FECB52"
          ],
          "font": {
           "color": "#2a3f5f"
          },
          "geo": {
           "bgcolor": "white",
           "lakecolor": "white",
           "landcolor": "white",
           "showlakes": true,
           "showland": true,
           "subunitcolor": "#C8D4E3"
          },
          "hoverlabel": {
           "align": "left"
          },
          "hovermode": "closest",
          "mapbox": {
           "style": "light"
          },
          "paper_bgcolor": "white",
          "plot_bgcolor": "white",
          "polar": {
           "angularaxis": {
            "gridcolor": "#EBF0F8",
            "linecolor": "#EBF0F8",
            "ticks": ""
           },
           "bgcolor": "white",
           "radialaxis": {
            "gridcolor": "#EBF0F8",
            "linecolor": "#EBF0F8",
            "ticks": ""
           }
          },
          "scene": {
           "xaxis": {
            "backgroundcolor": "white",
            "gridcolor": "#DFE8F3",
            "gridwidth": 2,
            "linecolor": "#EBF0F8",
            "showbackground": true,
            "ticks": "",
            "zerolinecolor": "#EBF0F8"
           },
           "yaxis": {
            "backgroundcolor": "white",
            "gridcolor": "#DFE8F3",
            "gridwidth": 2,
            "linecolor": "#EBF0F8",
            "showbackground": true,
            "ticks": "",
            "zerolinecolor": "#EBF0F8"
           },
           "zaxis": {
            "backgroundcolor": "white",
            "gridcolor": "#DFE8F3",
            "gridwidth": 2,
            "linecolor": "#EBF0F8",
            "showbackground": true,
            "ticks": "",
            "zerolinecolor": "#EBF0F8"
           }
          },
          "shapedefaults": {
           "line": {
            "color": "#2a3f5f"
           }
          },
          "ternary": {
           "aaxis": {
            "gridcolor": "#DFE8F3",
            "linecolor": "#A2B1C6",
            "ticks": ""
           },
           "baxis": {
            "gridcolor": "#DFE8F3",
            "linecolor": "#A2B1C6",
            "ticks": ""
           },
           "bgcolor": "white",
           "caxis": {
            "gridcolor": "#DFE8F3",
            "linecolor": "#A2B1C6",
            "ticks": ""
           }
          },
          "title": {
           "x": 0.05
          },
          "xaxis": {
           "automargin": true,
           "gridcolor": "#EBF0F8",
           "linecolor": "#EBF0F8",
           "ticks": "",
           "title": {
            "standoff": 15
           },
           "zerolinecolor": "#EBF0F8",
           "zerolinewidth": 2
          },
          "yaxis": {
           "automargin": true,
           "gridcolor": "#EBF0F8",
           "linecolor": "#EBF0F8",
           "ticks": "",
           "title": {
            "standoff": 15
           },
           "zerolinecolor": "#EBF0F8",
           "zerolinewidth": 2
          }
         }
        },
        "title": {
         "text": "label",
         "x": 0.5,
         "xanchor": "center",
         "y": 0.9,
         "yanchor": "top"
        },
        "xaxis": {
         "anchor": "y",
         "domain": [
          0,
          0.45
         ]
        },
        "yaxis": {
         "anchor": "x",
         "domain": [
          0,
          1
         ]
        }
       }
      }
     },
     "metadata": {},
     "output_type": "display_data"
    }
   ],
   "source": [
    "# Graficos para entender los datos mas facilmente\n",
    "def cat_summary_with_graph(dataframe, col_name):\n",
    "    fig = make_subplots(rows=1, cols=2,\n",
    "                        subplot_titles=('Countplot', 'Percentages'),\n",
    "                        specs=[[{\"type\": \"xy\"}, {'type': 'domain'}]])\n",
    "\n",
    "    fig.add_trace(go.Bar(y=dataframe[col_name].value_counts().values.tolist(),\n",
    "                         x=[str(i) for i in dataframe[col_name].value_counts().index],\n",
    "                         text=dataframe[col_name].value_counts().values.tolist(),\n",
    "                         textfont=dict(size=15),\n",
    "                         name=col_name,\n",
    "                         textposition='auto',\n",
    "                         showlegend=False,\n",
    "                         marker=dict(color=colors,\n",
    "                                     line=dict(color='#DBE6EC',\n",
    "                                               width=1))),\n",
    "                  row=1, col=1)\n",
    "\n",
    "    fig.add_trace(go.Pie(labels=dataframe[col_name].value_counts().keys(),\n",
    "                         values=dataframe[col_name].value_counts().values,\n",
    "                         textfont=dict(size=20),\n",
    "                         textposition='auto',\n",
    "                         showlegend=False,\n",
    "                         name=col_name,\n",
    "                         marker=dict(colors=colors)),\n",
    "                  row=1, col=2)\n",
    "\n",
    "    fig.update_layout(title={'text': col_name,\n",
    "                             'y': 0.9,\n",
    "                             'x': 0.5,\n",
    "                             'xanchor': 'center',\n",
    "                             'yanchor': 'top'},\n",
    "                      template='plotly_white')\n",
    "\n",
    "    iplot(fig)\n",
    "\n",
    "# Sus colores\n",
    "colors = ['#494BD3', '#E28AE2', '#F1F481', '#79DB80', '#DF5F5F',\n",
    "              '#69DADE', '#C2E37D', '#E26580', '#D39F49', '#B96FE3']\n",
    "\n",
    "cat_summary_with_graph(data_df,'label')\n"
   ]
  },
  {
   "cell_type": "code",
   "execution_count": 54,
   "metadata": {},
   "outputs": [],
   "source": [
    "## FUNCIONES PARA LA CARGA DE DATOS EN LA LISTA Y CREAR MARCOS DE DATOS\n",
    "# Generar rutas de datos con etiquetas\n",
    "def define_paths(dir):\n",
    "    filepaths = []\n",
    "    labels = []\n",
    "\n",
    "    folds = os.listdir(dir)\n",
    "    for fold in folds:\n",
    "        foldpath = os.path.join(dir, fold)\n",
    "        filelist = os.listdir(foldpath)\n",
    "        for file in filelist:\n",
    "            fpath = os.path.join(foldpath, file)\n",
    "            filepaths.append(fpath)\n",
    "            labels.append(fold)\n",
    "    ll1, ll2 = np.unique(labels, return_inverse=True)\n",
    "    \n",
    "\n",
    "    return filepaths, [str(ii) for ii in np.logical_or(np.logical_or(ll2==73,ll2==74),ll2==75).astype(int)]\n",
    "\n",
    "# Concatenar rutas de datos con etiquetas en un marco de datos (para su posterior ajuste en el modelo).\n",
    "def define_df(files, classes):\n",
    "    Fseries = pd.Series(files, name= 'filepaths')\n",
    "    Lseries = pd.Series(classes, name='labels')\n",
    "    return pd.concat([Fseries, Lseries], axis= 1)\n",
    "\n",
    "# Función que contiene sólo un directorio de datos y no está dividido\n",
    "def tr_ts_data(tr_dir, ts_dir):\n",
    "    # Entrenar y validar el dataframe\n",
    "    files, classes = define_paths(tr_dir)\n",
    "    df = define_df(files, classes)\n",
    "    strat = df['labels']\n",
    "    train_df, valid_df = train_test_split(df, train_size= 0.8, shuffle= True, stratify= strat)\n",
    "\n",
    "    # Probar el dataframe\n",
    "    files, classes = define_paths(tr_dir)\n",
    "    test_df = define_df(files, classes)\n",
    "    return train_df, valid_df, test_df\n",
    "\n",
    "# Función que contiene los directorios de datos de entrenamiento y prueba.\n",
    "def full_data(data_dir):\n",
    "    # Entrenar el dataframe\n",
    "    files, classes = define_paths(data_dir)\n",
    "    df = define_df(files, classes)\n",
    "    strat = df['labels']\n",
    "    train_df, dummy_df = train_test_split(df,  train_size= 0.8, shuffle= True, stratify= strat)\n",
    "\n",
    "    # Validar y probar el dataframe\n",
    "    strat = dummy_df['labels']\n",
    "    valid_df, test_df = train_test_split(dummy_df,  train_size= 0.5, shuffle= True, stratify= strat)\n",
    "\n",
    "    return train_df, valid_df, test_df\n",
    "\n",
    "# Función que contienen los tres directorios de datos: tren, válido y prueba.\n",
    "def tr_val_ts_data(tr_dir, val_dir, ts_dir):\n",
    "\n",
    "    # Entrenar el dataframe\n",
    "    files, classes = define_paths(tr_dir)\n",
    "    train_df = define_df(files, classes)\n",
    "\n",
    "    # Validar el dataframe\n",
    "    files, classes = define_paths(val_dir)\n",
    "    valid_df = define_df(files, classes)\n",
    "\n",
    "    # Probar el dataframe\n",
    "    files, classes = define_paths(ts_dir)\n",
    "    test_df = define_df(files, classes)\n",
    "\n",
    "    return train_df, valid_df, test_df\n",
    "\n",
    "# Esta funcion divide los datos en entrenados, validos y de prueba despues de convertirlos en un dataframe\n",
    "\n",
    "def split_data(tr_dir, val_dir=None, ts_dir=None):\n",
    "    # Sin datos de validación o de prueba.\n",
    "    if val_dir == '' and ts_dir == '':\n",
    "        train_df, valid_df, test_df = full_data(tr_dir)\n",
    "        return train_df, valid_df, test_df\n",
    "\n",
    "    # Sin datos de validación\n",
    "    elif val_dir == '' and ts_dir != '':\n",
    "        train_df, valid_df, test_df = tr_ts_data(tr_dir, ts_dir)\n",
    "        return train_df, valid_df, test_df\n",
    "\n",
    "    # Todos los datos existen\n",
    "    elif val_dir != '' and ts_dir != '':\n",
    "        train_df, valid_df, test_df = tr_val_ts_data(tr_dir, val_dir, ts_dir)\n",
    "        return train_df, valid_df, test_df"
   ]
  },
  {
   "cell_type": "code",
   "execution_count": 55,
   "metadata": {},
   "outputs": [],
   "source": [
    "from imblearn.over_sampling import RandomOverSampler\n",
    "from sklearn.utils import shuffle\n",
    "\n",
    "def create_model_data(train_df, valid_df, test_df, batch_size):\n",
    "    # Define los parámetros del modelo.\n",
    "    img_size = (128, 128)\n",
    "    channels = 3  # RGB o escala de grises.\n",
    "    color = 'rgb'\n",
    "    img_shape = (img_size[0], img_size[1], channels)\n",
    "\n",
    "    # Esta función, que se utilizará en el generador de datos de imagen para el aumento de datos, sólo toma la imagen y la devuelve de nuevo.\n",
    "    def scalar(img):\n",
    "        return img\n",
    "\n",
    "    tr_gen = ImageDataGenerator(\n",
    "                                rotation_range=20,  # Rango de rotación en grados\n",
    "                                width_shift_range=0.2,  # Rango de desplazamiento horizontal\n",
    "                                height_shift_range=0.2, # Rango de desplazamiento vertical\n",
    "                                shear_range=0.2,  # Rango de deformación de cizallamiento\n",
    "                                zoom_range=0.2,  # Rango de zoom\n",
    "                                horizontal_flip=True,  # Volteo horizontal aleatorio\n",
    "                                vertical_flip=True  # Volteo vertical aleatorio\n",
    "    )\n",
    "\n",
    "    ts_gen = ImageDataGenerator(preprocessing_function=scalar)\n",
    "\n",
    "    # Oversampling en el conjunto de entrenamiento\n",
    "    ros = RandomOverSampler()\n",
    "    train_df_balanced, train_labels_balanced = ros.fit_resample(train_df[['filepaths']], train_df['labels'])\n",
    "    train_df_balanced['labels'] = train_labels_balanced\n",
    "    train_df_balanced = shuffle(train_df_balanced)\n",
    "\n",
    "    train_gen = tr_gen.flow_from_dataframe(train_df_balanced,\n",
    "                                           x_col='filepaths',\n",
    "                                           y_col='labels',\n",
    "                                           target_size=img_size,\n",
    "                                           class_mode='categorical',\n",
    "                                           color_mode=color,\n",
    "                                           shuffle=True,\n",
    "                                           batch_size=batch_size)\n",
    "\n",
    "    valid_gen = ts_gen.flow_from_dataframe(valid_df,\n",
    "                                           x_col='filepaths',\n",
    "                                           y_col='labels',\n",
    "                                           target_size=img_size,\n",
    "                                           class_mode='categorical',\n",
    "                                           color_mode=color,\n",
    "                                           shuffle=True,\n",
    "                                           batch_size=batch_size)\n",
    "\n",
    "    # No aplicamos oversampling en el conjunto de prueba\n",
    "    test_gen = ts_gen.flow_from_dataframe(test_df,\n",
    "                                          x_col='filepaths',\n",
    "                                          y_col='labels',\n",
    "                                          target_size=img_size,\n",
    "                                          class_mode='categorical',\n",
    "                                          color_mode=color,\n",
    "                                          shuffle=False,\n",
    "                                          batch_size=batch_size)\n",
    "\n",
    "    return train_gen, valid_gen, test_gen"
   ]
  },
  {
   "cell_type": "code",
   "execution_count": 56,
   "metadata": {},
   "outputs": [],
   "source": [
    "## Callbacks optimizar entrenamiento del modelo.\n",
    "class MyCallback(keras.callbacks.Callback):\n",
    "    def __init__(self, model, patience, stop_patience, threshold, factor, batches, epochs, ask_epoch):\n",
    "        super(MyCallback, self).__init__()\n",
    "        self.model = model\n",
    "        self.patience = patience # Especifica cuántos epoch sin mejora antes de ajustar la tasa de aprendizaje.\n",
    "        self.stop_patience = stop_patience # Especifica cuantas veces ajustar lr sin mejora para parar el entrenamiento.\n",
    "        self.threshold = threshold # Especifica el umbral de precisión del entrenamiento cuando lr se ajustará en función de la pérdida de validación.\n",
    "        self.factor = factor # Factor de reducción de la tasa de aprendizaje.\n",
    "        self.batches = batches # Número de lotes de entrenamiento a ejecutar por epoch.\n",
    "        self.epochs = epochs\n",
    "        self.ask_epoch = ask_epoch\n",
    "        self.ask_epoch_initial = ask_epoch # Guardar este valor para restaurarlo si se reinicia el entrenamiento.\n",
    "\n",
    "        # Variables\n",
    "        self.count = 0 # Cuántas veces se ha reducido la lr sin mejoras.\n",
    "        self.stop_count = 0\n",
    "        self.best_epoch = 1   # Epoch con menor pérdida.\n",
    "        self.initial_lr = float(tf.keras.backend.get_value(model.optimizer.lr)) # Obtener la tasa de aprendizaje inicial y guardarla.\n",
    "        self.highest_tracc = 0.0 # establecer inicialmente la mayor precisión de entrenamiento en 0.\n",
    "        self.lowest_vloss = np.inf # Establecer inicialmente la pérdida de validación más baja en infinito.\n",
    "        self.best_weights = self.model.get_weights() # Establecer los mejores pesos a los pesos iniciales del modelo.\n",
    "        self.initial_weights = self.model.get_weights()   # Guardar los pesos iniciales por es necesario restaurarlos.\n",
    "\n",
    "    # Definir una función que se ejecutará cuando el entrenamiento comience.\n",
    "    def on_train_begin(self, logs= None):\n",
    "        msg = '¿Quieres que el modelo te pida que pares el entrenamiento? [y/n]'\n",
    "        print(msg)\n",
    "        ans = input('')\n",
    "        if ans in ['Y', 'y']:\n",
    "            self.ask_permission = 1\n",
    "        elif ans in ['N', 'n']:\n",
    "            self.ask_permission = 0\n",
    "\n",
    "        msg = '{0:^8s}{1:^10s}{2:^9s}{3:^9s}{4:^9s}{5:^9s}{6:^9s}{7:^10s}{8:10s}{9:^8s}'.format('Epoch', 'Loss', 'Acc', 'V_loss', 'V_acc', 'LR', 'Siguiente LR', 'Monitor','% Improv', 'Duración')\n",
    "        print(msg)\n",
    "        self.start_time = time.time()\n",
    "\n",
    "\n",
    "    def on_train_end(self, logs= None):\n",
    "        stop_time = time.time()\n",
    "        tr_duration = stop_time - self.start_time\n",
    "        hours = tr_duration // 3600\n",
    "        minutes = (tr_duration - (hours * 3600)) // 60\n",
    "        seconds = tr_duration - ((hours * 3600) + (minutes * 60))\n",
    "\n",
    "        msg = f'el tiempo de formación transcurrido fue {str(hours)} horas, {minutes:4.1f} minutos, {seconds:4.2f} segundos)'\n",
    "        print(msg)\n",
    "\n",
    "        # Establecer los pesos del modelo en los mejores pesos.\n",
    "        self.model.set_weights(self.best_weights)\n",
    "\n",
    "\n",
    "    def on_train_batch_end(self, batch, logs= None):\n",
    "        # Obtener precisión y pérdidas de lotes\n",
    "        acc = logs.get('accuracy') * 100\n",
    "        loss = logs.get('loss')\n",
    "\n",
    "        # Se imprime en la misma línea para mostrar el recuento de lotes en curso.\n",
    "        msg = '{0:20s}Procesando el lote {1:} de {2:5s}-   precisión=  {3:5.3f}   -   pérdidas: {4:8.5f}'.format(' ', str(batch), str(self.batches), acc, loss)\n",
    "        print(msg, '\\r', end= '')\n",
    "\n",
    "\n",
    "    def on_epoch_begin(self, epoch, logs= None):\n",
    "        self.ep_start = time.time()\n",
    "\n",
    "\n",
    "    # Definir el método que se ejecuta al final de cada epoch.\n",
    "    def on_epoch_end(self, epoch, logs= None):\n",
    "        ep_end = time.time()\n",
    "        duration = ep_end - self.ep_start\n",
    "\n",
    "        lr = float(tf.keras.backend.get_value(self.model.optimizer.lr)) # Obtener el ritmo de aprendizaje actual.\n",
    "        current_lr = lr\n",
    "        acc = logs.get('accuracy')  # Obtener precisión de entrenamiento.\n",
    "        v_acc = logs.get('val_accuracy')  # Obtener precisión de validación.\n",
    "        loss = logs.get('loss')  # Obtener la pérdida de entrenamiento para este epoch.\n",
    "        v_loss = logs.get('val_loss')  # Obtener la pérdida de validación para este epoch.\n",
    "\n",
    "        if acc < self.threshold: # Si la precisión del entrenamiento está por debajo del umbral ajuste lr en función de la precisión del entrenamiento.\n",
    "            monitor = 'accuracy'\n",
    "            if epoch == 0:\n",
    "                pimprov = 0.0\n",
    "            else:\n",
    "                pimprov = (acc - self.highest_tracc ) * 100 / self.highest_tracc # Definir la mejora del progreso del modelo.\n",
    "\n",
    "            if acc > self.highest_tracc: # La precisión del entrenamiento mejora en la época.\n",
    "                self.highest_tracc = acc # Establecer la nueva precisión de entrenamiento más alta.\n",
    "                self.best_weights = self.model.get_weights() # Mejora la precisión del entrenamiento, así que guarda los pesos.\n",
    "                self.count = 0 # Poner el contador en 0 ya que la precisión del entrenamiento ha mejorado.\n",
    "                self.stop_count = 0 # Poner el contador en 0.\n",
    "                if v_loss < self.lowest_vloss:\n",
    "                    self.lowest_vloss = v_loss\n",
    "                self.best_epoch = epoch + 1  # Establece el valor del mejor epoch para este epoch.\n",
    "\n",
    "            else:\n",
    "                # La precisión del entrenamiento no ha mejorado. Comprueba si esto ha ocurrido para el número de paciencia de los epochs.\n",
    "                # Si es así, ajuste el ritmo de aprendizaje.\n",
    "                if self.count >= self.patience - 1: # lr debe ajustarse.\n",
    "                    lr = lr * self.factor # Ajustar el aprendizaje por factor.\n",
    "                    tf.keras.backend.set_value(self.model.optimizer.lr, lr) # Establecer la tasa de aprendizaje en el optimizador.\n",
    "                    self.count = 0 # Restablecer el conteo a 0.\n",
    "                    self.stop_count = self.stop_count + 1 # Contar el número de ajustes lr consecutivos.\n",
    "                    self.count = 0 # Reiniciar contador.\n",
    "                    if v_loss < self.lowest_vloss:\n",
    "                        self.lowest_vloss = v_loss\n",
    "                else:\n",
    "                    self.count = self.count + 1 # Incrementa el contador de paciencia.\n",
    "\n",
    "        else: # La precisión del entrenamiento está por encima del umbral, así que se ajusta la tasa de aprendizaje en función de la pérdida de validación.\n",
    "            monitor = 'val_loss'\n",
    "            if epoch == 0:\n",
    "                pimprov = 0.0\n",
    "\n",
    "            else:\n",
    "                pimprov = (self.lowest_vloss - v_loss ) * 100 / self.lowest_vloss\n",
    "\n",
    "            if v_loss < self.lowest_vloss: # Verificar si la pérdida de validación mejoró.\n",
    "                self.lowest_vloss = v_loss # Reemplazar la pérdida de validación más baja con la nueva pérdida de validación.\n",
    "                self.best_weights = self.model.get_weights() # Pérdida de validación mejoró, así que guarda los pesos.\n",
    "                self.count = 0 # Restablece el contador ya que mejoró la pérdida de validación.\n",
    "                self.stop_count = 0\n",
    "                self.best_epoch = epoch + 1 # Establecer el valor del mejor epoch a este epoch.\n",
    "\n",
    "            else: # La pérdida de validación no mejoró.\n",
    "                if self.count >= self.patience - 1: # Necesita ajustar lr.\n",
    "                    lr = lr * self.factor # Ajustar la tasa de aprendizaje.\n",
    "                    self.stop_count = self.stop_count + 1 # Incrementa el contador de parada porque se ajustó lr.\n",
    "                    self.count = 0 # Reiniciar contador.\n",
    "                    tf.keras.backend.set_value(self.model.optimizer.lr, lr) # Establecer la tasa de aprendizaje en el optimizador.\n",
    "\n",
    "                else:\n",
    "                    self.count = self.count + 1 # incrementar el contador de paciencia.\n",
    "\n",
    "                if acc > self.highest_tracc:\n",
    "                    self.highest_tracc = acc\n",
    "\n",
    "        msg = f'{str(epoch + 1):^3s}/{str(self.epochs):4s} {loss:^9.3f}{acc * 100:^9.3f}{v_loss:^9.5f}{v_acc * 100:^9.3f}{current_lr:^9.5f}{lr:^9.5f}{monitor:^11s}{pimprov:^10.2f}{duration:^8.2f}'\n",
    "        print(msg)\n",
    "\n",
    "        if self.stop_count > self.stop_patience - 1: # Comprobar si la tasa de aprendizaje se ha ajustado \"stop_count\" veces sin mejora.\n",
    "            msg = f' el entrenamiento se ha detenido en el epoch {epoch + 1} despues de {self.stop_patience} ajustes del learning rate sin mejora'\n",
    "            print(msg)\n",
    "            self.model.stop_training = True # Para el entrenamiento.\n",
    "\n",
    "        else:\n",
    "            if self.ask_epoch != None and self.ask_permission != 0:\n",
    "                if epoch + 1 >= self.ask_epoch:\n",
    "                    msg = 'ingrese H para detener el entrenamiento o un número entero para el número de épocas a ejecutar y luego pregunte nuevamente'\n",
    "                    print(msg)\n",
    "\n",
    "                    ans = input('')\n",
    "                    if ans == 'H' or ans == 'h':\n",
    "                        msg = f'el entrenamiento se ha detenido en el epoch {epoch + 1} debido a la entrada del usuario'\n",
    "                        print(msg)\n",
    "                        self.model.stop_training = True # Para el entrenamiento.\n",
    "\n",
    "                    else:\n",
    "                        try:\n",
    "                            ans = int(ans)\n",
    "                            self.ask_epoch += ans\n",
    "                            msg = f' el entrenamiento continuará hasta el epoch {str(self.ask_epoch)}'\n",
    "                            print(msg)\n",
    "                            msg = '{0:^8s}{1:^10s}{2:^9s}{3:^9s}{4:^9s}{5:^9s}{6:^9s}{7:^10s}{8:10s}{9:^8s}'.format('Epoch', 'Loss', 'Accuracy', 'V_loss', 'V_acc', 'LR', 'Siguiente LR', 'Monitor', '% Improv', 'Duración')\n",
    "                            print(msg)\n",
    "\n",
    "                        except Exception:\n",
    "                            print('Invalido')"
   ]
  },
  {
   "cell_type": "code",
   "execution_count": 59,
   "metadata": {},
   "outputs": [],
   "source": [
    "## Funcion para graficar curvas de aceleracion y perdida\n",
    "\n",
    "def plot_training(hist):\n",
    "    # Define needed variables\n",
    "    tr_acc = hist.history['accuracy']\n",
    "    tr_loss = hist.history['loss']\n",
    "    val_acc = hist.history['val_accuracy']\n",
    "    val_loss = hist.history['val_loss']\n",
    "    index_loss = np.argmin(val_loss)\n",
    "    val_lowest = val_loss[index_loss]\n",
    "    index_acc = np.argmax(val_acc)\n",
    "    acc_highest = val_acc[index_acc]\n",
    "    Epochs = [i+1 for i in range(len(tr_acc))]\n",
    "    loss_label = f'Mejor epoch= {str(index_loss + 1)}'\n",
    "    acc_label = f'Mejor epoch= {str(index_acc + 1)}'\n",
    "\n",
    "    # Plot training history\n",
    "    plt.figure(figsize= (20, 8))\n",
    "    plt.style.use('fivethirtyeight')\n",
    "\n",
    "    plt.subplot(1, 2, 1)\n",
    "    plt.plot(Epochs, tr_loss, 'r', label= 'Pérdida de entrenamiento')\n",
    "    plt.plot(Epochs, val_loss, 'g', label= 'Pérdida por validación')\n",
    "    plt.scatter(index_loss + 1, val_lowest, s= 150, c= 'blue', label= loss_label)\n",
    "    plt.title('Entrenamiento y Pérdida por validación')\n",
    "    plt.xlabel('Epochs')\n",
    "    plt.ylabel('Perdidas')\n",
    "    plt.legend()\n",
    "\n",
    "    plt.subplot(1, 2, 2)\n",
    "    plt.plot(Epochs, tr_acc, 'r', label= 'Precisión del entrenamiento')\n",
    "    plt.plot(Epochs, val_acc, 'g', label= 'Precisión de la validación')\n",
    "    plt.scatter(index_acc + 1 , acc_highest, s= 150, c= 'blue', label= acc_label)\n",
    "    plt.title('Entrenamiento y Precisión de la validación')\n",
    "    plt.xlabel('Epochs')\n",
    "    plt.ylabel('Precisión')\n",
    "    plt.legend()\n",
    "\n",
    "    plt.tight_layout\n",
    "    plt.show()"
   ]
  },
  {
   "cell_type": "code",
   "execution_count": 60,
   "metadata": {},
   "outputs": [
    {
     "name": "stdout",
     "output_type": "stream",
     "text": [
      "Found 18576 validated image filenames belonging to 2 classes.\n",
      "Found 1179 validated image filenames belonging to 2 classes.\n",
      "Found 1179 validated image filenames belonging to 2 classes.\n"
     ]
    }
   ],
   "source": [
    "## Division de los datos y creacion de los generadores\n",
    "\n",
    "train_dir = data_path\n",
    "valid_dir = input('Introduzca el directorio de datos de validación (si no hay directorio válido, pulse Enter): ')\n",
    "test_dir = input('Introduzca el directorio de datos de prueba (si no hay directorio de prueba, pulse Enter): ')\n",
    "\n",
    "# Obtener datos divididos.\n",
    "train_df, valid_df, test_df = split_data(train_dir, valid_dir, test_dir)\n",
    "\n",
    "# Obtener generadores.\n",
    "batch_size = 8\n",
    "\n",
    "\n",
    "train_gen, valid_gen, test_gen = create_model_data(train_df, valid_df, test_df, batch_size)"
   ]
  },
  {
   "cell_type": "code",
   "execution_count": 61,
   "metadata": {},
   "outputs": [
    {
     "name": "stdout",
     "output_type": "stream",
     "text": [
      "Model: \"sequential_2\"\n",
      "_________________________________________________________________\n",
      " Layer (type)                Output Shape              Param #   \n",
      "=================================================================\n",
      " conv2d_6 (Conv2D)           (None, 126, 126, 32)      896       \n",
      "                                                                 \n",
      " max_pooling2d_6 (MaxPooling  (None, 63, 63, 32)       0         \n",
      " 2D)                                                             \n",
      "                                                                 \n",
      " conv2d_7 (Conv2D)           (None, 61, 61, 64)        18496     \n",
      "                                                                 \n",
      " max_pooling2d_7 (MaxPooling  (None, 30, 30, 64)       0         \n",
      " 2D)                                                             \n",
      "                                                                 \n",
      " conv2d_8 (Conv2D)           (None, 28, 28, 128)       73856     \n",
      "                                                                 \n",
      " max_pooling2d_8 (MaxPooling  (None, 14, 14, 128)      0         \n",
      " 2D)                                                             \n",
      "                                                                 \n",
      " flatten_2 (Flatten)         (None, 25088)             0         \n",
      "                                                                 \n",
      " dense_4 (Dense)             (None, 256)               6422784   \n",
      "                                                                 \n",
      " dense_5 (Dense)             (None, 2)                 514       \n",
      "                                                                 \n",
      "=================================================================\n",
      "Total params: 6,516,546\n",
      "Trainable params: 6,516,546\n",
      "Non-trainable params: 0\n",
      "_________________________________________________________________\n"
     ]
    }
   ],
   "source": [
    "# Obtener el número de clases\n",
    "num_classes = len(data_df['label'].unique())\n",
    "\n",
    "# Crear estructura de modelo.\n",
    "img_size = (128, 128)\n",
    "channels = 3\n",
    "img_shape = (img_size[0], img_size[1], channels)\n",
    "class_count = len(list(train_gen.class_indices.keys())) # Para definir el número de clases en la capa densa.\n",
    "\n",
    "# Crear el modelo CNN\n",
    "cnn_model = Sequential()\n",
    "cnn_model.add(Conv2D(32, (3, 3), activation='relu', input_shape=img_shape))\n",
    "cnn_model.add(MaxPooling2D((2, 2)))\n",
    "cnn_model.add(Conv2D(64, (3, 3), activation='relu'))\n",
    "cnn_model.add(MaxPooling2D((2, 2)))\n",
    "cnn_model.add(Conv2D(128, (3, 3), activation='relu'))\n",
    "cnn_model.add(MaxPooling2D((2, 2)))\n",
    "cnn_model.add(Flatten())\n",
    "cnn_model.add(Dense(256, activation='relu'))\n",
    "cnn_model.add(Dense(num_classes, activation='softmax'))\n",
    "\n",
    "# Compilar el modelo\n",
    "cnn_model.compile(optimizer=Adam(), loss='categorical_crossentropy', metrics=['accuracy'])\n",
    "\n",
    "cnn_model.summary()\n",
    "\n",
    "# Crear un modelo preentrenado (puede crear un modelo preentrenado como: EfficientNet, VGG, ResNet).\n",
    "# Usaremos EfficientNetB1 de la familia EfficientNet.\n",
    "#base_model = tf.keras.applications.efficientnet.EfficientNetB1(include_top=False, weights=\"imagenet\", input_shape=img_shape, pooling='max')\n",
    "\n",
    "# Crear el modelo\n",
    "#efficientNet_model = Sequential([\n",
    "#    base_model,\n",
    "#    BatchNormalization(axis=-1, momentum=0.99, epsilon=0.001),\n",
    "#    Dense(256, activation='relu'),\n",
    "#    Dropout(rate=0.45, seed=123),\n",
    "#    Dense(class_count, activation='softmax')\n",
    "#])\n",
    "\n",
    "#efficientNet_model.compile(optimizer=Adamax(learning_rate=0.001),\n",
    "#                          loss='categorical_crossentropy',  # Utilizar 'categorical_crossentropy' para múltiples clases\n",
    "#                         metrics=['accuracy'])\n",
    "\n",
    "#efficientNet_model.summary()"
   ]
  },
  {
   "cell_type": "code",
   "execution_count": 62,
   "metadata": {},
   "outputs": [
    {
     "name": "stdout",
     "output_type": "stream",
     "text": [
      "GPU found\n",
      "['Sat Sep  9 18:04:57 2023       ', '+---------------------------------------------------------------------------------------+', '| NVIDIA-SMI 537.13                 Driver Version: 537.13       CUDA Version: 12.2     |', '|-----------------------------------------+----------------------+----------------------+', '| GPU  Name                     TCC/WDDM  | Bus-Id        Disp.A | Volatile Uncorr. ECC |', '| Fan  Temp   Perf          Pwr:Usage/Cap |         Memory-Usage | GPU-Util  Compute M. |', '|                                         |                      |               MIG M. |', '|=========================================+======================+======================|', '|   0  NVIDIA GeForce GTX 1050 Ti   WDDM  | 00000000:01:00.0  On |                  N/A |', '|  0%   35C    P0              N/A /  95W |   3719MiB /  4096MiB |      8%      Default |', '|                                         |                      |                  N/A |', '+-----------------------------------------+----------------------+----------------------+', '                                                                                         ', '+---------------------------------------------------------------------------------------+', '| Processes:                                                                            |', '|  GPU   GI   CI        PID   Type   Process name                            GPU Memory |', '|        ID   ID                                                             Usage      |', '|=======================================================================================|', '|    0   N/A  N/A      2840    C+G   ...5n1h2txyewy\\\\ShellExperienceHost.exe    N/A      |', '|    0   N/A  N/A      7116    C+G   C:\\\\Windows\\\\explorer.exe                   N/A      |', '|    0   N/A  N/A      7628    C+G   ...nt.CBS_cw5n1h2txyewy\\\\SearchHost.exe    N/A      |', '|    0   N/A  N/A      7636    C+G   ...2txyewy\\\\StartMenuExperienceHost.exe    N/A      |', '|    0   N/A  N/A      8776    C+G   ...GeForce Experience\\\\NVIDIA Share.exe    N/A      |', '|    0   N/A  N/A      8944    C+G   ...CBS_cw5n1h2txyewy\\\\TextInputHost.exe    N/A      |', '|    0   N/A  N/A      8996    C+G   ...GeForce Experience\\\\NVIDIA Share.exe    N/A      |', '|    0   N/A  N/A     10692    C+G   ...B\\\\system_tray\\\\lghub_system_tray.exe    N/A      |', '|    0   N/A  N/A     12900    C+G   ...Programs\\\\Microsoft VS Code\\\\Code.exe    N/A      |', '|    0   N/A  N/A     14808      C   D:\\\\mini\\\\python.exe                        N/A      |', '|    0   N/A  N/A     15020      C   D:\\\\mini\\\\python.exe                        N/A      |', '+---------------------------------------------------------------------------------------+']\n"
     ]
    }
   ],
   "source": [
    "## GPU CUDA\n",
    "# Verifica si estás utilizando una GPU\n",
    "if tf.test.gpu_device_name():\n",
    "    print('GPU found')\n",
    "    # Imprime información adicional sobre la GPU\n",
    "    gpu_info = !nvidia-smi\n",
    "    print(gpu_info)\n",
    "else:\n",
    "    print('GPU not found')"
   ]
  },
  {
   "cell_type": "code",
   "execution_count": 76,
   "metadata": {},
   "outputs": [],
   "source": [
    "batch_size = 8  # Establecer el tamaño del lote para el entrenamiento.\n",
    "epochs = 25   # Número de todos los epoch en entrenamiento.\n",
    "patience = 1   # Número de epochs a esperar para ajustar lr si el valor monitoreado no mejora.\n",
    "stop_patience = 3   # Número de epochs a esperar antes de detener el entrenamiento si el valor monitoreado no mejora.\n",
    "threshold = 0.9   # Si la precisión del tren es < umbral, ajuste la precisión del monitor; de lo contrario, monitoree la pérdida de validación.\n",
    "factor = 0.5   # Factor para reducir lr.\n",
    "ask_epoch = 5   # Número de epochs a ejecutar antes de preguntar si desea detener el entrenamiento.\n",
    "batches = int(np.ceil(len(train_gen.labels) / batch_size))    # Número de lotes de entrenamiento para ejecutar por epoch.\n",
    "\n",
    "callbacks = [MyCallback(model= cnn_model, patience= patience, stop_patience= stop_patience, threshold= threshold,\n",
    "            factor= factor, batches= batches, epochs= epochs, ask_epoch= ask_epoch )]"
   ]
  },
  {
   "cell_type": "code",
   "execution_count": 77,
   "metadata": {},
   "outputs": [
    {
     "name": "stdout",
     "output_type": "stream",
     "text": [
      "¿Quieres que el modelo te pida que pares el entrenamiento? [y/n]\n",
      " Epoch     Loss      Acc    V_loss    V_acc     LR    Siguiente LR Monitor  % Improv  Duración\n",
      "WARNING:tensorflow:Callback method `on_train_batch_end` is slow compared to the batch time (batch time: 0.0104s vs `on_train_batch_end` time: 0.0431s). Check your callbacks.\n",
      " 1 /25     0.214   90.999   2.09623  91.094   0.00003  0.00003  val_loss     0.00    152.36 0.21414 \n",
      " 2 /25     0.211   91.231   2.37393  92.027   0.00003  0.00002  val_loss    -13.25   163.79 0.21145 \n",
      " 3 /25     0.200   91.607   2.38603  92.197   0.00002  0.00001  val_loss    -13.82   167.64 0.20019 \n",
      " 4 /25     0.203   91.457   2.45820  91.942   0.00001  0.00000  val_loss    -17.27   197.53 0.20340 \n",
      " el entrenamiento se ha detenido en el epoch 4 despues de 3 ajustes del learning rate sin mejora\n",
      "el tiempo de formación transcurrido fue 0.0 horas, 11.0 minutos, 21.50 segundos)\n"
     ]
    }
   ],
   "source": [
    "#Entrenando el modelo\n",
    "history = cnn_model.fit(x= train_gen, epochs= epochs, verbose= 0, callbacks= callbacks,\n",
    "                                validation_data= valid_gen, validation_steps= None, shuffle= False)"
   ]
  },
  {
   "cell_type": "code",
   "execution_count": 78,
   "metadata": {},
   "outputs": [
    {
     "data": {
      "image/png": "[encoded data removed]",
      "text/plain": [
       "<Figure size 2000x800 with 2 Axes>"
      ]
     },
     "metadata": {},
     "output_type": "display_data"
    }
   ],
   "source": [
    "## Llamada de los graficos de entrenamiento  vs la validacion y entrenamiento vs la perdida de la validacion\n",
    "plot_training(history)"
   ]
  },
  {
   "cell_type": "code",
   "execution_count": 80,
   "metadata": {},
   "outputs": [
    {
     "name": "stdout",
     "output_type": "stream",
     "text": [
      "Modelo guardado en: cnn_model.h5\n"
     ]
    }
   ],
   "source": [
    "# Guardar el modelo entrenado\n",
    "model_save_path = 'cnn_model.h5'\n",
    "cnn_model.save(model_save_path)\n",
    "print(\"Modelo guardado en:\", model_save_path)"
   ]
  },
  {
   "cell_type": "code",
   "execution_count": 81,
   "metadata": {},
   "outputs": [],
   "source": [
    "# Cargar el modelo desde el archivo guardado\n",
    "cnn_model = load_model(model_save_path)"
   ]
  },
  {
   "cell_type": "code",
   "execution_count": 82,
   "metadata": {},
   "outputs": [
    {
     "name": "stdout",
     "output_type": "stream",
     "text": [
      "131/131 [==============================] - 9s 68ms/step - loss: 0.2380 - accuracy: 0.8969\n",
      "131/131 [==============================] - 4s 32ms/step - loss: 1.7243 - accuracy: 0.9065\n",
      "131/131 [==============================] - 5s 41ms/step - loss: 0.2601 - accuracy: 0.9246\n",
      "Pérdida del entrenamiento:  0.23795266449451447\n",
      "Precisión del entrenamiento:  0.8969465494155884\n",
      "--------------------\n",
      "Pérdida de la validación:  1.724273920059204\n",
      "Precisión de la validación:  0.9064885377883911\n",
      "--------------------\n",
      "Pérdida de las pruebas:  0.26007983088493347\n",
      "Precisión de las pruebas:  0.9246183037757874\n"
     ]
    }
   ],
   "source": [
    "## Puntuacion en conjuntos de datos validos y de prueba\n",
    "ts_length = len(test_df)\n",
    "test_batch_size = test_batch_size = max(sorted([ts_length // n for n in range(1, ts_length + 1) if ts_length%n == 0 and ts_length/n <= 80]))\n",
    "test_steps = ts_length // test_batch_size\n",
    "\n",
    "train_score = cnn_model.evaluate(train_gen, steps= test_steps, verbose= 1)\n",
    "valid_score = cnn_model.evaluate(valid_gen, steps= test_steps, verbose= 1)\n",
    "test_score = cnn_model.evaluate(test_gen, steps= test_steps, verbose= 1)\n",
    "\n",
    "print(\"Pérdida del entrenamiento: \", train_score[0])\n",
    "print(\"Precisión del entrenamiento: \", train_score[1])\n",
    "print('-' * 20)\n",
    "print(\"Pérdida de la validación: \", valid_score[0])\n",
    "print(\"Precisión de la validación: \", valid_score[1])\n",
    "print('-' * 20)\n",
    "print(\"Pérdida de las pruebas: \", test_score[0])\n",
    "print(\"Precisión de las pruebas: \", test_score[1])"
   ]
  },
  {
   "cell_type": "code",
   "execution_count": 83,
   "metadata": {},
   "outputs": [
    {
     "name": "stdout",
     "output_type": "stream",
     "text": [
      "WARNING:tensorflow:AutoGraph could not transform <function Model.make_predict_function.<locals>.predict_function at 0x0000000035FC55A0> and will run it as-is.\n",
      "Please report this to the TensorFlow team. When filing the bug, set the verbosity to 10 (on Linux, `export AUTOGRAPH_VERBOSITY=10`) and attach the full output.\n",
      "Cause: Unknown node type <gast.gast.Assign object at 0x00000000351CAFB0>\n",
      "To silence this warning, decorate the function with @tf.autograph.experimental.do_not_convert\n",
      "WARNING: AutoGraph could not transform <function Model.make_predict_function.<locals>.predict_function at 0x0000000035FC55A0> and will run it as-is.\n",
      "Please report this to the TensorFlow team. When filing the bug, set the verbosity to 10 (on Linux, `export AUTOGRAPH_VERBOSITY=10`) and attach the full output.\n",
      "Cause: Unknown node type <gast.gast.Assign object at 0x00000000351CAFB0>\n",
      "To silence this warning, decorate the function with @tf.autograph.experimental.do_not_convert\n",
      "148/148 [==============================] - 5s 34ms/step\n"
     ]
    },
    {
     "data": {
      "image/png": "[encoded data removed]",
      "text/plain": [
       "<Figure size 1000x800 with 2 Axes>"
      ]
     },
     "metadata": {},
     "output_type": "display_data"
    }
   ],
   "source": [
    "## Mastriz de confusion\n",
    "y_pred = cnn_model.predict(test_gen)\n",
    "\n",
    "y_pred_labels = np.argmax(y_pred, axis=1)\n",
    "\n",
    "y_true_labels = test_gen.classes\n",
    "\n",
    "#------------------------------------------------------------------------------------------------#\n",
    "\n",
    "class_names = list(test_gen.class_indices.keys())\n",
    "\n",
    "confusion_mtx = confusion_matrix(y_true_labels, y_pred_labels)\n",
    "\n",
    "plt.figure(figsize=(10,8))\n",
    "sns.heatmap(confusion_mtx, cmap=\"magma\", annot=True, fmt=\"d\", xticklabels=class_names, yticklabels=class_names)\n",
    "plt.title(\"Matriz de confusión\")\n",
    "plt.xlabel(\"Etiqueta predicha\")\n",
    "plt.ylabel(\"Etiqueta verdadera\")\n",
    "plt.show()"
   ]
  },
  {
   "cell_type": "code",
   "execution_count": 84,
   "metadata": {},
   "outputs": [
    {
     "name": "stdout",
     "output_type": "stream",
     "text": [
      "              precision    recall  f1-score   support\n",
      "\n",
      "           0       0.99      0.93      0.96      1162\n",
      "           1       0.08      0.41      0.13        17\n",
      "\n",
      "    accuracy                           0.92      1179\n",
      "   macro avg       0.54      0.67      0.55      1179\n",
      "weighted avg       0.98      0.92      0.95      1179\n",
      "\n"
     ]
    }
   ],
   "source": [
    "## Informe de clasificacion\n",
    "\n",
    "g_dict = test_gen.class_indices\n",
    "classes = list(g_dict.keys())\n",
    "\n",
    "# Informe de clasificación.\n",
    "print(classification_report(y_true_labels, y_pred_labels, target_names= classes))"
   ]
  },
  {
   "cell_type": "code",
   "execution_count": 90,
   "metadata": {},
   "outputs": [
    {
     "name": "stdout",
     "output_type": "stream",
     "text": [
      "Se produjo un error: La imagen no se pudo cargar.\n"
     ]
    }
   ],
   "source": [
    "# Aquí debes importar y cargar el modelo EfficientNet\n",
    "# Asegúrate de tener instalada la biblioteca necesaria y de haber cargado el modelo correctamente\n",
    "\n",
    "def load_image_from_file(file_path):\n",
    "    img = cv2.imread(file_path)\n",
    "    if img is None:\n",
    "        raise Exception(\"La imagen no se pudo cargar.\")\n",
    "    img = cv2.cvtColor(img, cv2.COLOR_BGR2RGB)\n",
    "    img = cv2.resize(img, (128, 128))\n",
    "    return img\n",
    "\n",
    "def load_image_from_url(url):\n",
    "    response = requests.get(url)\n",
    "    img = Image.open(BytesIO(response.content))\n",
    "    img = img.resize((128, 128))\n",
    "    img = np.array(img)\n",
    "    return img\n",
    "\n",
    "def predict_image(image):\n",
    "    image = np.expand_dims(image, axis=0)\n",
    "    if image.size == 0:\n",
    "        raise Exception(\"La imagen no se pudo cargar.\")\n",
    "    predictions = cnn_model.predict(image)\n",
    "    class_idx = np.argmax(predictions[0])\n",
    "    class_name = list(test_gen.class_indices.keys())[class_idx]\n",
    "    confidence = predictions[0][class_idx]\n",
    "    return class_name, confidence\n",
    "\n",
    "try:\n",
    "    # Obtener la imagen del usuario (ya sea desde un archivo o una URL)\n",
    "    image_source = input(\"Ingrese la ruta de la imagen (archivo o URL): \")\n",
    "    if image_source.lower().startswith(\"http\"):\n",
    "        image = load_image_from_url(image_source)\n",
    "    else:\n",
    "        image = load_image_from_file(image_source)\n",
    "\n",
    "    # Mostrar la imagen\n",
    "    plt.imshow(image)\n",
    "    plt.axis('off')\n",
    "    plt.show()\n",
    "\n",
    "    # Realizar la predicción\n",
    "    class_name, confidence = predict_image(image)\n",
    "\n",
    "    # Verificar si es una curraca o no\n",
    "    if class_name == \"0\":\n",
    "        print(\"La imagen contiene una Curruca.\")\n",
    "        print(\"Confianza:\", confidence)\n",
    "    elif class_name == \"1\":\n",
    "        print(\"La imagen no contiene una Curruca.\")\n",
    "        print(\"Confianza:\", confidence)\n",
    "\n",
    "except Exception as e:\n",
    "    print(\"Se produjo un error:\", str(e))\n"
   ]
  }
 ],
 "metadata": {
  "kernelspec": {
   "display_name": "base",
   "language": "python",
   "name": "python3"
  },
  "language_info": {
   "codemirror_mode": {
    "name": "ipython",
    "version": 3
   },
   "file_extension": ".py",
   "mimetype": "text/x-python",
   "name": "python",
   "nbconvert_exporter": "python",
   "pygments_lexer": "ipython3",
   "version": "3.10.12"
  },
  "orig_nbformat": 4
 },
 "nbformat": 4,
 "nbformat_minor": 2
}
