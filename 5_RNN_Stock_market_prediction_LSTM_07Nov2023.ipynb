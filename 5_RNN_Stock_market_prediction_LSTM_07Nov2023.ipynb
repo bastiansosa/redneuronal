{
  "cells": [
    {
      "cell_type": "markdown",
      "metadata": {
        "id": "j5uYJa691mot"
      },
      "source": [
        "# **RRN - LSTM para Stock market prediction -**\n",
        "***Modelo RNN para analizar mercado de acciones (Stock Market)***\n",
        "\n"
      ]
    },
    {
      "cell_type": "markdown",
      "metadata": {
        "id": "aPvOudcacBa4"
      },
      "source": [
        "***FUENTE:***\n",
        "\n",
        "- https://medium.com/@nafiu.dev/stock-market-prediction-using-lstm-will-the-price-go-up-tomorrow-practical-guide-d1df2d54a517\n",
        "- https://medium.com/@mrconnor/forecasting-the-stock-market-using-lstm-will-it-rise-tomorrow-94ff6b6a34b6"
      ]
    },
    {
      "cell_type": "code",
      "execution_count": null,
      "metadata": {
        "id": "Yr_vk6pnaf2Y"
      },
      "outputs": [],
      "source": [
        "import yfinance as yf\n",
        "import numpy as np\n",
        "import pandas as pd\n",
        "import tensorflow as tf\n",
        "import matplotlib.pyplot as plt"
      ]
    },
    {
      "cell_type": "markdown",
      "metadata": {
        "id": "jOeqxHOdOzlj"
      },
      "source": [
        "# yfinance\n",
        "- yfinance es una popular biblioteca de código abierto desarrollada por Ran Aroussi como un medio para acceder a los datos financieros disponibles en Yahoo Finance.\n",
        "- Yahoo Finance ofrece una excelente variedad de datos de mercado sobre acciones, bonos, divisas y criptomonedas. También ofrece noticias, informes y análisis del mercado y, además, opciones y datos fundamentales, que lo distinguen de algunos de sus competidores.\n",
        "\n",
        "- Link: https://gsnchez.com/blog/article/Primeros-pasos-con-yfinance"
      ]
    },
    {
      "cell_type": "code",
      "execution_count": null,
      "metadata": {
        "colab": {
          "base_uri": "https://localhost:8080/",
          "height": 255
        },
        "id": "BpjYEho6ay5L",
        "outputId": "d01fe8d0-b473-4496-c818-eeb74af2e100"
      },
      "outputs": [
        {
          "name": "stdout",
          "output_type": "stream",
          "text": [
            "\r[*********************100%%**********************]  1 of 1 completed\n"
          ]
        },
        {
          "data": {
            "text/html": [
              "\n",
              "  <div id=\"df-6be2c4d3-b081-4b97-ba38-d9a50a2d21d4\" class=\"colab-df-container\">\n",
              "    <div>\n",
              "<style scoped>\n",
              "    .dataframe tbody tr th:only-of-type {\n",
              "        vertical-align: middle;\n",
              "    }\n",
              "\n",
              "    .dataframe tbody tr th {\n",
              "        vertical-align: top;\n",
              "    }\n",
              "\n",
              "    .dataframe thead th {\n",
              "        text-align: right;\n",
              "    }\n",
              "</style>\n",
              "<table border=\"1\" class=\"dataframe\">\n",
              "  <thead>\n",
              "    <tr style=\"text-align: right;\">\n",
              "      <th></th>\n",
              "      <th>Open</th>\n",
              "      <th>High</th>\n",
              "      <th>Low</th>\n",
              "      <th>Close</th>\n",
              "      <th>Adj Close</th>\n",
              "      <th>Volume</th>\n",
              "    </tr>\n",
              "    <tr>\n",
              "      <th>Date</th>\n",
              "      <th></th>\n",
              "      <th></th>\n",
              "      <th></th>\n",
              "      <th></th>\n",
              "      <th></th>\n",
              "      <th></th>\n",
              "    </tr>\n",
              "  </thead>\n",
              "  <tbody>\n",
              "    <tr>\n",
              "      <th>2019-01-02</th>\n",
              "      <td>51.360001</td>\n",
              "      <td>53.039501</td>\n",
              "      <td>51.264000</td>\n",
              "      <td>52.734001</td>\n",
              "      <td>52.734001</td>\n",
              "      <td>31868000</td>\n",
              "    </tr>\n",
              "    <tr>\n",
              "      <th>2019-01-03</th>\n",
              "      <td>52.533501</td>\n",
              "      <td>53.313000</td>\n",
              "      <td>51.118500</td>\n",
              "      <td>51.273499</td>\n",
              "      <td>51.273499</td>\n",
              "      <td>41960000</td>\n",
              "    </tr>\n",
              "    <tr>\n",
              "      <th>2019-01-04</th>\n",
              "      <td>52.127998</td>\n",
              "      <td>54.000000</td>\n",
              "      <td>51.842999</td>\n",
              "      <td>53.903500</td>\n",
              "      <td>53.903500</td>\n",
              "      <td>46022000</td>\n",
              "    </tr>\n",
              "    <tr>\n",
              "      <th>2019-01-07</th>\n",
              "      <td>54.048500</td>\n",
              "      <td>54.134998</td>\n",
              "      <td>53.132000</td>\n",
              "      <td>53.796001</td>\n",
              "      <td>53.796001</td>\n",
              "      <td>47446000</td>\n",
              "    </tr>\n",
              "    <tr>\n",
              "      <th>2019-01-08</th>\n",
              "      <td>54.299999</td>\n",
              "      <td>54.667500</td>\n",
              "      <td>53.417500</td>\n",
              "      <td>54.268501</td>\n",
              "      <td>54.268501</td>\n",
              "      <td>35414000</td>\n",
              "    </tr>\n",
              "  </tbody>\n",
              "</table>\n",
              "</div>\n",
              "    <div class=\"colab-df-buttons\">\n",
              "\n",
              "  <div class=\"colab-df-container\">\n",
              "    <button class=\"colab-df-convert\" onclick=\"convertToInteractive('df-6be2c4d3-b081-4b97-ba38-d9a50a2d21d4')\"\n",
              "            title=\"Convert this dataframe to an interactive table.\"\n",
              "            style=\"display:none;\">\n",
              "\n",
              "  <svg xmlns=\"http://www.w3.org/2000/svg\" height=\"24px\" viewBox=\"0 -960 960 960\">\n",
              "    <path d=\"M120-120v-720h720v720H120Zm60-500h600v-160H180v160Zm220 220h160v-160H400v160Zm0 220h160v-160H400v160ZM180-400h160v-160H180v160Zm440 0h160v-160H620v160ZM180-180h160v-160H180v160Zm440 0h160v-160H620v160Z\"/>\n",
              "  </svg>\n",
              "    </button>\n",
              "\n",
              "  <style>\n",
              "    .colab-df-container {\n",
              "      display:flex;\n",
              "      gap: 12px;\n",
              "    }\n",
              "\n",
              "    .colab-df-convert {\n",
              "      background-color: #E8F0FE;\n",
              "      border: none;\n",
              "      border-radius: 50%;\n",
              "      cursor: pointer;\n",
              "      display: none;\n",
              "      fill: #1967D2;\n",
              "      height: 32px;\n",
              "      padding: 0 0 0 0;\n",
              "      width: 32px;\n",
              "    }\n",
              "\n",
              "    .colab-df-convert:hover {\n",
              "      background-color: #E2EBFA;\n",
              "      box-shadow: 0px 1px 2px rgba(60, 64, 67, 0.3), 0px 1px 3px 1px rgba(60, 64, 67, 0.15);\n",
              "      fill: #174EA6;\n",
              "    }\n",
              "\n",
              "    .colab-df-buttons div {\n",
              "      margin-bottom: 4px;\n",
              "    }\n",
              "\n",
              "    [theme=dark] .colab-df-convert {\n",
              "      background-color: #3B4455;\n",
              "      fill: #D2E3FC;\n",
              "    }\n",
              "\n",
              "    [theme=dark] .colab-df-convert:hover {\n",
              "      background-color: #434B5C;\n",
              "      box-shadow: 0px 1px 3px 1px rgba(0, 0, 0, 0.15);\n",
              "      filter: drop-shadow(0px 1px 2px rgba(0, 0, 0, 0.3));\n",
              "      fill: #FFFFFF;\n",
              "    }\n",
              "  </style>\n",
              "\n",
              "    <script>\n",
              "      const buttonEl =\n",
              "        document.querySelector('#df-6be2c4d3-b081-4b97-ba38-d9a50a2d21d4 button.colab-df-convert');\n",
              "      buttonEl.style.display =\n",
              "        google.colab.kernel.accessAllowed ? 'block' : 'none';\n",
              "\n",
              "      async function convertToInteractive(key) {\n",
              "        const element = document.querySelector('#df-6be2c4d3-b081-4b97-ba38-d9a50a2d21d4');\n",
              "        const dataTable =\n",
              "          await google.colab.kernel.invokeFunction('convertToInteractive',\n",
              "                                                    [key], {});\n",
              "        if (!dataTable) return;\n",
              "\n",
              "        const docLinkHtml = 'Like what you see? Visit the ' +\n",
              "          '<a target=\"_blank\" href=https://colab.research.google.com/notebooks/data_table.ipynb>data table notebook</a>'\n",
              "          + ' to learn more about interactive tables.';\n",
              "        element.innerHTML = '';\n",
              "        dataTable['output_type'] = 'display_data';\n",
              "        await google.colab.output.renderOutput(dataTable, element);\n",
              "        const docLink = document.createElement('div');\n",
              "        docLink.innerHTML = docLinkHtml;\n",
              "        element.appendChild(docLink);\n",
              "      }\n",
              "    </script>\n",
              "  </div>\n",
              "\n",
              "\n",
              "<div id=\"df-ac5dc408-8706-4ab6-bf35-0cd3963915a8\">\n",
              "  <button class=\"colab-df-quickchart\" onclick=\"quickchart('df-ac5dc408-8706-4ab6-bf35-0cd3963915a8')\"\n",
              "            title=\"Suggest charts.\"\n",
              "            style=\"display:none;\">\n",
              "\n",
              "<svg xmlns=\"http://www.w3.org/2000/svg\" height=\"24px\"viewBox=\"0 0 24 24\"\n",
              "     width=\"24px\">\n",
              "    <g>\n",
              "        <path d=\"M19 3H5c-1.1 0-2 .9-2 2v14c0 1.1.9 2 2 2h14c1.1 0 2-.9 2-2V5c0-1.1-.9-2-2-2zM9 17H7v-7h2v7zm4 0h-2V7h2v10zm4 0h-2v-4h2v4z\"/>\n",
              "    </g>\n",
              "</svg>\n",
              "  </button>\n",
              "\n",
              "<style>\n",
              "  .colab-df-quickchart {\n",
              "      --bg-color: #E8F0FE;\n",
              "      --fill-color: #1967D2;\n",
              "      --hover-bg-color: #E2EBFA;\n",
              "      --hover-fill-color: #174EA6;\n",
              "      --disabled-fill-color: #AAA;\n",
              "      --disabled-bg-color: #DDD;\n",
              "  }\n",
              "\n",
              "  [theme=dark] .colab-df-quickchart {\n",
              "      --bg-color: #3B4455;\n",
              "      --fill-color: #D2E3FC;\n",
              "      --hover-bg-color: #434B5C;\n",
              "      --hover-fill-color: #FFFFFF;\n",
              "      --disabled-bg-color: #3B4455;\n",
              "      --disabled-fill-color: #666;\n",
              "  }\n",
              "\n",
              "  .colab-df-quickchart {\n",
              "    background-color: var(--bg-color);\n",
              "    border: none;\n",
              "    border-radius: 50%;\n",
              "    cursor: pointer;\n",
              "    display: none;\n",
              "    fill: var(--fill-color);\n",
              "    height: 32px;\n",
              "    padding: 0;\n",
              "    width: 32px;\n",
              "  }\n",
              "\n",
              "  .colab-df-quickchart:hover {\n",
              "    background-color: var(--hover-bg-color);\n",
              "    box-shadow: 0 1px 2px rgba(60, 64, 67, 0.3), 0 1px 3px 1px rgba(60, 64, 67, 0.15);\n",
              "    fill: var(--button-hover-fill-color);\n",
              "  }\n",
              "\n",
              "  .colab-df-quickchart-complete:disabled,\n",
              "  .colab-df-quickchart-complete:disabled:hover {\n",
              "    background-color: var(--disabled-bg-color);\n",
              "    fill: var(--disabled-fill-color);\n",
              "    box-shadow: none;\n",
              "  }\n",
              "\n",
              "  .colab-df-spinner {\n",
              "    border: 2px solid var(--fill-color);\n",
              "    border-color: transparent;\n",
              "    border-bottom-color: var(--fill-color);\n",
              "    animation:\n",
              "      spin 1s steps(1) infinite;\n",
              "  }\n",
              "\n",
              "  @keyframes spin {\n",
              "    0% {\n",
              "      border-color: transparent;\n",
              "      border-bottom-color: var(--fill-color);\n",
              "      border-left-color: var(--fill-color);\n",
              "    }\n",
              "    20% {\n",
              "      border-color: transparent;\n",
              "      border-left-color: var(--fill-color);\n",
              "      border-top-color: var(--fill-color);\n",
              "    }\n",
              "    30% {\n",
              "      border-color: transparent;\n",
              "      border-left-color: var(--fill-color);\n",
              "      border-top-color: var(--fill-color);\n",
              "      border-right-color: var(--fill-color);\n",
              "    }\n",
              "    40% {\n",
              "      border-color: transparent;\n",
              "      border-right-color: var(--fill-color);\n",
              "      border-top-color: var(--fill-color);\n",
              "    }\n",
              "    60% {\n",
              "      border-color: transparent;\n",
              "      border-right-color: var(--fill-color);\n",
              "    }\n",
              "    80% {\n",
              "      border-color: transparent;\n",
              "      border-right-color: var(--fill-color);\n",
              "      border-bottom-color: var(--fill-color);\n",
              "    }\n",
              "    90% {\n",
              "      border-color: transparent;\n",
              "      border-bottom-color: var(--fill-color);\n",
              "    }\n",
              "  }\n",
              "</style>\n",
              "\n",
              "  <script>\n",
              "    async function quickchart(key) {\n",
              "      const quickchartButtonEl =\n",
              "        document.querySelector('#' + key + ' button');\n",
              "      quickchartButtonEl.disabled = true;  // To prevent multiple clicks.\n",
              "      quickchartButtonEl.classList.add('colab-df-spinner');\n",
              "      try {\n",
              "        const charts = await google.colab.kernel.invokeFunction(\n",
              "            'suggestCharts', [key], {});\n",
              "      } catch (error) {\n",
              "        console.error('Error during call to suggestCharts:', error);\n",
              "      }\n",
              "      quickchartButtonEl.classList.remove('colab-df-spinner');\n",
              "      quickchartButtonEl.classList.add('colab-df-quickchart-complete');\n",
              "    }\n",
              "    (() => {\n",
              "      let quickchartButtonEl =\n",
              "        document.querySelector('#df-ac5dc408-8706-4ab6-bf35-0cd3963915a8 button');\n",
              "      quickchartButtonEl.style.display =\n",
              "        google.colab.kernel.accessAllowed ? 'block' : 'none';\n",
              "    })();\n",
              "  </script>\n",
              "</div>\n",
              "    </div>\n",
              "  </div>\n"
            ],
            "text/plain": [
              "                 Open       High        Low      Close  Adj Close    Volume\n",
              "Date                                                                       \n",
              "2019-01-02  51.360001  53.039501  51.264000  52.734001  52.734001  31868000\n",
              "2019-01-03  52.533501  53.313000  51.118500  51.273499  51.273499  41960000\n",
              "2019-01-04  52.127998  54.000000  51.842999  53.903500  53.903500  46022000\n",
              "2019-01-07  54.048500  54.134998  53.132000  53.796001  53.796001  47446000\n",
              "2019-01-08  54.299999  54.667500  53.417500  54.268501  54.268501  35414000"
            ]
          },
          "execution_count": 2,
          "metadata": {},
          "output_type": "execute_result"
        }
      ],
      "source": [
        "data= yf.download(\"GOOGL\", start=\"2019-01-01\", interval=\"1d\")\n",
        "data.head()"
      ]
    },
    {
      "cell_type": "markdown",
      "metadata": {
        "id": "wzNlrtPMOiwE"
      },
      "source": [
        "***NOTA:***\n",
        "\n",
        "- Ver pandas-datareader Documentation:https://buildmedia.readthedocs.org/media/pdf/pandas-datareader/latest/pandas-datareader.pdf"
      ]
    },
    {
      "cell_type": "code",
      "execution_count": null,
      "metadata": {
        "colab": {
          "base_uri": "https://localhost:8080/"
        },
        "id": "tSG8d4AdbgB4",
        "outputId": "a93483e0-691d-4a69-8025-f7e437f3108b"
      },
      "outputs": [
        {
          "name": "stdout",
          "output_type": "stream",
          "text": [
            "<class 'pandas.core.frame.DataFrame'>\n",
            "DatetimeIndex: 1221 entries, 2019-01-02 to 2023-11-06\n",
            "Data columns (total 6 columns):\n",
            " #   Column     Non-Null Count  Dtype  \n",
            "---  ------     --------------  -----  \n",
            " 0   Open       1221 non-null   float64\n",
            " 1   High       1221 non-null   float64\n",
            " 2   Low        1221 non-null   float64\n",
            " 3   Close      1221 non-null   float64\n",
            " 4   Adj Close  1221 non-null   float64\n",
            " 5   Volume     1221 non-null   int64  \n",
            "dtypes: float64(5), int64(1)\n",
            "memory usage: 66.8 KB\n"
          ]
        }
      ],
      "source": [
        "data.info()"
      ]
    },
    {
      "cell_type": "code",
      "execution_count": null,
      "metadata": {
        "colab": {
          "base_uri": "https://localhost:8080/"
        },
        "id": "x2IqbbJwb-y5",
        "outputId": "a0808b74-1ed4-4c97-f0e6-8800b4a1e2b1"
      },
      "outputs": [
        {
          "data": {
            "text/plain": [
              "0"
            ]
          },
          "execution_count": 4,
          "metadata": {},
          "output_type": "execute_result"
        }
      ],
      "source": [
        "data[\"Close\"]=pd.to_numeric(data.Close,errors='coerce')\n",
        "data.isnull().sum().sum()"
      ]
    },
    {
      "cell_type": "code",
      "execution_count": null,
      "metadata": {
        "colab": {
          "base_uri": "https://localhost:8080/"
        },
        "id": "2AmC_lM0cXmg",
        "outputId": "88d51c62-d066-45b7-ddb3-cb7df5756833"
      },
      "outputs": [
        {
          "data": {
            "text/plain": [
              "False"
            ]
          },
          "execution_count": 5,
          "metadata": {},
          "output_type": "execute_result"
        }
      ],
      "source": [
        "#Verificando por valores duplicados\n",
        "data.duplicated().any()"
      ]
    },
    {
      "cell_type": "code",
      "execution_count": null,
      "metadata": {
        "colab": {
          "base_uri": "https://localhost:8080/",
          "height": 430
        },
        "id": "9ihTI7IfcguH",
        "outputId": "696ea89e-8935-4030-b439-b2b6a813010e"
      },
      "outputs": [
        {
          "data": {
            "image/png": "[encoded data removed]",
            "text/plain": [
              "<Figure size 640x480 with 1 Axes>"
            ]
          },
          "metadata": {},
          "output_type": "display_data"
        }
      ],
      "source": [
        "plt.plot(data.index, data['Close'], color='green', label='Close')\n",
        "plt.show()"
      ]
    },
    {
      "cell_type": "code",
      "execution_count": null,
      "metadata": {
        "id": "FDt72DHccz7N"
      },
      "outputs": [],
      "source": [
        "dataV1 = data.iloc[:,3:4]\n",
        "dataV1 = dataV1.values"
      ]
    },
    {
      "cell_type": "code",
      "execution_count": null,
      "metadata": {
        "id": "FegQrhOyc23t"
      },
      "outputs": [],
      "source": [
        "from sklearn.preprocessing import MinMaxScaler\n",
        "Scaler = MinMaxScaler(feature_range=(0,1))\n",
        "dataV1 = Scaler.fit_transform(dataV1)"
      ]
    },
    {
      "cell_type": "code",
      "execution_count": null,
      "metadata": {
        "id": "zbyhZ_FAc5Zi"
      },
      "outputs": [],
      "source": [
        "feature_length = 100"
      ]
    },
    {
      "cell_type": "code",
      "execution_count": null,
      "metadata": {
        "id": "mjhsJYTec8jb"
      },
      "outputs": [],
      "source": [
        "# Function to create x and y data\n",
        "def Create_Features_and_Targets(data, feature_length):\n",
        "  X = list()\n",
        "  Y = list()\n",
        "  for i in range(len(data) - feature_length -1):\n",
        "    X.append(data[i:(i + feature_length), 0])\n",
        "    Y.append(data[i + feature_length, 0])\n",
        "  X = np.array(X)\n",
        "  Y = np.array(Y)\n",
        "  return X,Y\n"
      ]
    },
    {
      "cell_type": "code",
      "execution_count": null,
      "metadata": {
        "id": "hBrTLlric-3h"
      },
      "outputs": [],
      "source": [
        "# calling the function\n",
        "X_train,y_train= Create_Features_and_Targets(dataV1,feature_length)"
      ]
    },
    {
      "cell_type": "code",
      "execution_count": null,
      "metadata": {
        "colab": {
          "base_uri": "https://localhost:8080/"
        },
        "id": "W-uvUitedBev",
        "outputId": "7fab7627-43bd-4871-a8b2-cc9a71799169"
      },
      "outputs": [
        {
          "data": {
            "text/plain": [
              "((1120, 100, 1), (1120,))"
            ]
          },
          "execution_count": 12,
          "metadata": {},
          "output_type": "execute_result"
        }
      ],
      "source": [
        "X_train = np.reshape(X_train,(X_train.shape[0],X_train.shape[1],1))\n",
        "X_train.shape, y_train.shape"
      ]
    },
    {
      "cell_type": "code",
      "execution_count": null,
      "metadata": {
        "id": "8Pr3izLldH1r"
      },
      "outputs": [],
      "source": [
        "from tensorflow.keras.models import Sequential\n",
        "from tensorflow.keras.layers import Dense , Dropout , LSTM"
      ]
    },
    {
      "cell_type": "code",
      "execution_count": null,
      "metadata": {
        "id": "H3ei8s9ydKKQ"
      },
      "outputs": [],
      "source": [
        "# model\n",
        "model = Sequential([\n",
        "   LSTM(100,return_sequences=True,input_shape=(X_train.shape[1],1)),\n",
        "   Dropout(0.3),\n",
        "   LSTM(100, return_sequences = False),\n",
        "   Dropout(0.3),\n",
        "\n",
        "   Dense(1),\n",
        "])\n",
        "model.compile(optimizer='adam',loss=\"mean_squared_error\")\n",
        "model.summary()"
      ]
    },
    {
      "cell_type": "code",
      "execution_count": null,
      "metadata": {
        "colab": {
          "base_uri": "https://localhost:8080/",
          "height": 644
        },
        "id": "1Xtlj1TUdb_R",
        "outputId": "350ee498-a7bf-4ed3-c3ef-451eccc36660"
      },
      "outputs": [
        {
          "data": {
            "image/png": "[encoded data removed]",
            "text/plain": [
              "<IPython.core.display.Image object>"
            ]
          },
          "execution_count": 15,
          "metadata": {},
          "output_type": "execute_result"
        }
      ],
      "source": [
        "from keras.utils import plot_model\n",
        "\n",
        "# Visualización de la red (Modelo), y se guarda el gráfico resultante en disco, en el archivo net.png:\n",
        "plot_model(model, 'net.png', show_shapes=True)"
      ]
    },
    {
      "cell_type": "code",
      "execution_count": null,
      "metadata": {
        "colab": {
          "base_uri": "https://localhost:8080/"
        },
        "id": "ZWdmXZ82dxsd",
        "outputId": "e6a03d8d-f5f1-46f8-c4aa-4ca5ff7fbb5f"
      },
      "outputs": [
        {
          "name": "stdout",
          "output_type": "stream",
          "text": [
            "Epoch 1/100\n",
            "94/94 [==============================] - 11s 9ms/step - loss: 0.0176\n",
            "Epoch 2/100\n",
            "94/94 [==============================] - 1s 9ms/step - loss: 0.0048\n",
            "Epoch 3/100\n",
            "94/94 [==============================] - 1s 9ms/step - loss: 0.0045\n",
            "Epoch 4/100\n",
            "94/94 [==============================] - 1s 9ms/step - loss: 0.0046\n",
            "Epoch 5/100\n",
            "94/94 [==============================] - 1s 9ms/step - loss: 0.0037\n",
            "Epoch 6/100\n",
            "94/94 [==============================] - 1s 9ms/step - loss: 0.0042\n",
            "Epoch 7/100\n",
            "94/94 [==============================] - 1s 9ms/step - loss: 0.0035\n",
            "Epoch 8/100\n",
            "94/94 [==============================] - 1s 9ms/step - loss: 0.0032\n",
            "Epoch 9/100\n",
            "94/94 [==============================] - 1s 9ms/step - loss: 0.0032\n",
            "Epoch 10/100\n",
            "94/94 [==============================] - 1s 9ms/step - loss: 0.0040\n",
            "Epoch 11/100\n",
            "94/94 [==============================] - 1s 9ms/step - loss: 0.0030\n",
            "Epoch 12/100\n",
            "94/94 [==============================] - 1s 12ms/step - loss: 0.0030\n",
            "Epoch 13/100\n",
            "94/94 [==============================] - 1s 13ms/step - loss: 0.0027\n",
            "Epoch 14/100\n",
            "94/94 [==============================] - 1s 9ms/step - loss: 0.0028\n",
            "Epoch 15/100\n",
            "94/94 [==============================] - 1s 9ms/step - loss: 0.0027\n",
            "Epoch 16/100\n",
            "94/94 [==============================] - 1s 9ms/step - loss: 0.0027\n",
            "Epoch 17/100\n",
            "94/94 [==============================] - 1s 9ms/step - loss: 0.0024\n",
            "Epoch 18/100\n",
            "94/94 [==============================] - 1s 9ms/step - loss: 0.0025\n",
            "Epoch 19/100\n",
            "94/94 [==============================] - 1s 9ms/step - loss: 0.0023\n",
            "Epoch 20/100\n",
            "94/94 [==============================] - 1s 9ms/step - loss: 0.0024\n",
            "Epoch 21/100\n",
            "94/94 [==============================] - 1s 9ms/step - loss: 0.0023\n",
            "Epoch 22/100\n",
            "94/94 [==============================] - 1s 9ms/step - loss: 0.0023\n",
            "Epoch 23/100\n",
            "94/94 [==============================] - 1s 9ms/step - loss: 0.0022\n",
            "Epoch 24/100\n",
            "94/94 [==============================] - 1s 9ms/step - loss: 0.0019\n",
            "Epoch 25/100\n",
            "94/94 [==============================] - 1s 10ms/step - loss: 0.0022\n",
            "Epoch 26/100\n",
            "94/94 [==============================] - 1s 12ms/step - loss: 0.0021\n",
            "Epoch 27/100\n",
            "94/94 [==============================] - 1s 11ms/step - loss: 0.0022\n",
            "Epoch 28/100\n",
            "94/94 [==============================] - 1s 9ms/step - loss: 0.0022\n",
            "Epoch 29/100\n",
            "94/94 [==============================] - 1s 9ms/step - loss: 0.0020\n",
            "Epoch 30/100\n",
            "94/94 [==============================] - 1s 9ms/step - loss: 0.0020\n",
            "Epoch 31/100\n",
            "94/94 [==============================] - 1s 9ms/step - loss: 0.0018\n",
            "Epoch 32/100\n",
            "94/94 [==============================] - 1s 9ms/step - loss: 0.0017\n",
            "Epoch 33/100\n",
            "94/94 [==============================] - 1s 9ms/step - loss: 0.0022\n",
            "Epoch 34/100\n",
            "94/94 [==============================] - 1s 9ms/step - loss: 0.0017\n",
            "Epoch 35/100\n",
            "94/94 [==============================] - 1s 9ms/step - loss: 0.0017\n",
            "Epoch 36/100\n",
            "94/94 [==============================] - 1s 9ms/step - loss: 0.0017\n",
            "Epoch 37/100\n",
            "94/94 [==============================] - 1s 9ms/step - loss: 0.0017\n",
            "Epoch 38/100\n",
            "94/94 [==============================] - 1s 10ms/step - loss: 0.0016\n",
            "Epoch 39/100\n",
            "94/94 [==============================] - 1s 13ms/step - loss: 0.0017\n",
            "Epoch 40/100\n",
            "94/94 [==============================] - 1s 13ms/step - loss: 0.0017\n",
            "Epoch 41/100\n",
            "94/94 [==============================] - 1s 9ms/step - loss: 0.0017\n",
            "Epoch 42/100\n",
            "94/94 [==============================] - 1s 9ms/step - loss: 0.0017\n",
            "Epoch 43/100\n",
            "94/94 [==============================] - 1s 9ms/step - loss: 0.0016\n",
            "Epoch 44/100\n",
            "94/94 [==============================] - 1s 9ms/step - loss: 0.0016\n",
            "Epoch 45/100\n",
            "94/94 [==============================] - 1s 9ms/step - loss: 0.0016\n",
            "Epoch 46/100\n",
            "94/94 [==============================] - 1s 9ms/step - loss: 0.0014\n",
            "Epoch 47/100\n",
            "94/94 [==============================] - 1s 9ms/step - loss: 0.0015\n",
            "Epoch 48/100\n",
            "94/94 [==============================] - 1s 9ms/step - loss: 0.0016\n",
            "Epoch 49/100\n",
            "94/94 [==============================] - 1s 9ms/step - loss: 0.0016\n",
            "Epoch 50/100\n",
            "94/94 [==============================] - 1s 9ms/step - loss: 0.0014\n",
            "Epoch 51/100\n",
            "94/94 [==============================] - 1s 9ms/step - loss: 0.0015\n",
            "Epoch 52/100\n",
            "94/94 [==============================] - 1s 12ms/step - loss: 0.0014\n",
            "Epoch 53/100\n",
            "94/94 [==============================] - 1s 13ms/step - loss: 0.0015\n",
            "Epoch 54/100\n",
            "94/94 [==============================] - 1s 10ms/step - loss: 0.0013\n",
            "Epoch 55/100\n",
            "94/94 [==============================] - 1s 9ms/step - loss: 0.0016\n",
            "Epoch 56/100\n",
            "94/94 [==============================] - 1s 9ms/step - loss: 0.0015\n",
            "Epoch 57/100\n",
            "94/94 [==============================] - 1s 9ms/step - loss: 0.0014\n",
            "Epoch 58/100\n",
            "94/94 [==============================] - 1s 9ms/step - loss: 0.0015\n",
            "Epoch 59/100\n",
            "94/94 [==============================] - 1s 9ms/step - loss: 0.0013\n",
            "Epoch 60/100\n",
            "94/94 [==============================] - 1s 9ms/step - loss: 0.0014\n",
            "Epoch 61/100\n",
            "94/94 [==============================] - 1s 9ms/step - loss: 0.0014\n",
            "Epoch 62/100\n",
            "94/94 [==============================] - 1s 9ms/step - loss: 0.0014\n",
            "Epoch 63/100\n",
            "94/94 [==============================] - 1s 9ms/step - loss: 0.0013\n",
            "Epoch 64/100\n",
            "94/94 [==============================] - 1s 9ms/step - loss: 0.0012\n",
            "Epoch 65/100\n",
            "94/94 [==============================] - 1s 10ms/step - loss: 0.0012\n",
            "Epoch 66/100\n",
            "94/94 [==============================] - 1s 13ms/step - loss: 0.0012\n",
            "Epoch 67/100\n",
            "94/94 [==============================] - 1s 11ms/step - loss: 0.0014\n",
            "Epoch 68/100\n",
            "94/94 [==============================] - 1s 9ms/step - loss: 0.0013\n",
            "Epoch 69/100\n",
            "94/94 [==============================] - 1s 9ms/step - loss: 0.0013\n",
            "Epoch 70/100\n",
            "94/94 [==============================] - 1s 9ms/step - loss: 0.0013\n",
            "Epoch 71/100\n",
            "94/94 [==============================] - 1s 9ms/step - loss: 0.0012\n",
            "Epoch 72/100\n",
            "94/94 [==============================] - 1s 9ms/step - loss: 0.0011\n",
            "Epoch 73/100\n",
            "94/94 [==============================] - 1s 9ms/step - loss: 0.0012\n",
            "Epoch 74/100\n",
            "94/94 [==============================] - 1s 9ms/step - loss: 0.0012\n",
            "Epoch 75/100\n",
            "94/94 [==============================] - 1s 9ms/step - loss: 0.0012\n",
            "Epoch 76/100\n",
            "94/94 [==============================] - 1s 9ms/step - loss: 0.0013\n",
            "Epoch 77/100\n",
            "94/94 [==============================] - 1s 9ms/step - loss: 0.0012\n",
            "Epoch 78/100\n",
            "94/94 [==============================] - 1s 9ms/step - loss: 0.0013\n",
            "Epoch 79/100\n",
            "94/94 [==============================] - 1s 12ms/step - loss: 0.0013\n",
            "Epoch 80/100\n",
            "94/94 [==============================] - 1s 12ms/step - loss: 0.0013\n",
            "Epoch 81/100\n",
            "94/94 [==============================] - 1s 9ms/step - loss: 0.0013\n",
            "Epoch 82/100\n",
            "94/94 [==============================] - 1s 9ms/step - loss: 0.0011\n",
            "Epoch 83/100\n",
            "94/94 [==============================] - 1s 9ms/step - loss: 0.0013\n",
            "Epoch 84/100\n",
            "94/94 [==============================] - 1s 9ms/step - loss: 0.0012\n",
            "Epoch 85/100\n",
            "94/94 [==============================] - 1s 9ms/step - loss: 0.0012\n",
            "Epoch 86/100\n",
            "94/94 [==============================] - 1s 9ms/step - loss: 0.0012\n",
            "Epoch 87/100\n",
            "94/94 [==============================] - 1s 9ms/step - loss: 0.0013\n",
            "Epoch 88/100\n",
            "94/94 [==============================] - 1s 9ms/step - loss: 0.0011\n",
            "Epoch 89/100\n",
            "94/94 [==============================] - 1s 9ms/step - loss: 0.0011\n",
            "Epoch 90/100\n",
            "94/94 [==============================] - 1s 9ms/step - loss: 0.0012\n",
            "Epoch 91/100\n",
            "94/94 [==============================] - 1s 9ms/step - loss: 0.0012\n",
            "Epoch 92/100\n",
            "94/94 [==============================] - 1s 11ms/step - loss: 0.0012\n",
            "Epoch 93/100\n",
            "94/94 [==============================] - 1s 12ms/step - loss: 0.0014\n",
            "Epoch 94/100\n",
            "94/94 [==============================] - 1s 10ms/step - loss: 0.0012\n",
            "Epoch 95/100\n",
            "94/94 [==============================] - 1s 9ms/step - loss: 0.0013\n",
            "Epoch 96/100\n",
            "94/94 [==============================] - 1s 9ms/step - loss: 0.0012\n",
            "Epoch 97/100\n",
            "94/94 [==============================] - 1s 9ms/step - loss: 0.0013\n",
            "Epoch 98/100\n",
            "94/94 [==============================] - 1s 9ms/step - loss: 0.0012\n",
            "Epoch 99/100\n",
            "94/94 [==============================] - 1s 9ms/step - loss: 0.0011\n",
            "Epoch 100/100\n",
            "94/94 [==============================] - 1s 9ms/step - loss: 0.0012\n"
          ]
        }
      ],
      "source": [
        "# Training the model\n",
        "history = model.fit(\n",
        "    X_train,\n",
        "    y_train,\n",
        "    epochs = 100,\n",
        "    batch_size = 12,\n",
        "    verbose=1,\n",
        ")"
      ]
    },
    {
      "cell_type": "code",
      "execution_count": null,
      "metadata": {
        "id": "U5Fx1zoid1Ux"
      },
      "outputs": [],
      "source": [
        "testData = data.iloc[:,3:4] # Get 'Close' feature\n",
        "y_real=testData.iloc[feature_length+1:,0:].values #Actual values\n",
        "x_test = testData.iloc[:,0:].values # data to test\n",
        "# normalizing the Data using Scaler.transform function\n",
        "x_test = Scaler.transform(x_test)\n",
        "x_test, y_test = Create_Features_and_Targets(x_test, feature_length)\n",
        "# Making data 3 dimensional\n",
        "x_test = np.reshape(x_test,(x_test.shape[0],x_test.shape[1],1))"
      ]
    },
    {
      "cell_type": "code",
      "execution_count": null,
      "metadata": {
        "colab": {
          "base_uri": "https://localhost:8080/"
        },
        "id": "jYuRkpMUd5Xo",
        "outputId": "bec96fcd-2426-4153-bf0d-99d919669b3d"
      },
      "outputs": [
        {
          "name": "stdout",
          "output_type": "stream",
          "text": [
            "35/35 [==============================] - 1s 5ms/step\n"
          ]
        }
      ],
      "source": [
        "y_pred = model.predict(x_test)\n",
        "predicted_price = Scaler.inverse_transform(y_pred)"
      ]
    },
    {
      "cell_type": "code",
      "execution_count": null,
      "metadata": {
        "colab": {
          "base_uri": "https://localhost:8080/",
          "height": 449
        },
        "id": "XXG-yP-ed75l",
        "outputId": "bef43c7b-ba24-49f1-bd25-79a636f0b73c"
      },
      "outputs": [
        {
          "data": {
            "image/png": "[encoded data removed]",
            "text/plain": [
              "<Figure size 640x480 with 1 Axes>"
            ]
          },
          "metadata": {},
          "output_type": "display_data"
        }
      ],
      "source": [
        "plt.plot(y_real, color = 'red', label = 'Actual')\n",
        "plt.plot(predicted_price, color = 'green', label = 'Predicted')\n",
        "plt.xlabel('Time')\n",
        "plt.ylabel('Stock')\n",
        "plt.legend()\n",
        "plt.show()"
      ]
    },
    {
      "cell_type": "code",
      "execution_count": null,
      "metadata": {
        "id": "PMY_7-1KevLm"
      },
      "outputs": [],
      "source": [
        "def predict_given_date(data, date, feature_length):\n",
        "  if date not in data.index:\n",
        "     data.loc[pd.Timestamp(date)] = 0\n",
        "  idx = data.index.get_loc(date)\n",
        "  close_col = data.iloc[:,3:4]\n",
        "  close_col = close_col.iloc[idx - feature_length : idx,:].values\n",
        "  close_col = np.expand_dims(Scaler.transform(close_col) , axis = 0)\n",
        "  Prediction = model.predict(close_col)\n",
        "  Prediction = Scaler.inverse_transform(Prediction)\n",
        "  return Prediction"
      ]
    },
    {
      "cell_type": "code",
      "execution_count": null,
      "metadata": {
        "colab": {
          "base_uri": "https://localhost:8080/"
        },
        "id": "Kc73qNOoexXv",
        "outputId": "e11573cf-f53a-46bf-88da-89c0bbe00d26"
      },
      "outputs": [
        {
          "name": "stdout",
          "output_type": "stream",
          "text": [
            "1/1 [==============================] - 0s 22ms/step\n"
          ]
        },
        {
          "data": {
            "text/plain": [
              "array([[63.757393]], dtype=float32)"
            ]
          },
          "execution_count": 25,
          "metadata": {},
          "output_type": "execute_result"
        }
      ],
      "source": [
        "\n",
        "# calling the function\n",
        "predict_given_date(data, '2023-12-01', feature_length)"
      ]
    },
    {
      "cell_type": "code",
      "execution_count": null,
      "metadata": {
        "colab": {
          "base_uri": "https://localhost:8080/"
        },
        "id": "5UOjqIc2e7oV",
        "outputId": "f4050b0c-15a4-4e2f-a441-5f2f270fa9c3"
      },
      "outputs": [
        {
          "data": {
            "text/plain": [
              "Date\n",
              "2022-09-20    101.139999\n",
              "Name: Close, dtype: float64"
            ]
          },
          "execution_count": 26,
          "metadata": {},
          "output_type": "execute_result"
        }
      ],
      "source": [
        "# only gives the dates that already exists in the dataset\n",
        "l = data.index.get_loc('2022-09-20')\n",
        "data.iloc[l: l+1,:]['Close']\n",
        "# well we can see the predicted value is very close"
      ]
    },
    {
      "cell_type": "markdown",
      "metadata": {
        "id": "17k-uXrYLLwx"
      },
      "source": [
        "Date\n",
        "\n",
        "2022-09-20   \n",
        " 101.139999\n",
        "\n",
        "Name: Close, dtype: float64"
      ]
    }
  ],
  "metadata": {
    "accelerator": "GPU",
    "colab": {
      "gpuType": "V100",
      "provenance": []
    },
    "kernelspec": {
      "display_name": "Python 3",
      "name": "python3"
    },
    "language_info": {
      "name": "python"
    }
  },
  "nbformat": 4,
  "nbformat_minor": 0
}
