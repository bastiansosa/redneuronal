{
 "cells": [
  {
   "cell_type": "markdown",
   "metadata": {
    "id": "TizDmrO0T1qV"
   },
   "source": [
    "# TUTORIAL: ¡PYTORCH DESDE CERO!\n",
    "\n",
    "En este tutorial veremos paso a paso todos los elementos que usualmente hay que tener en cuenta para crear, entrenar, validar y poner a prueba prácticamente cualquier modelo de Deep Learning usando esta librería.\n",
    "\n",
    "\n",
    "Contenido:\n",
    "\n",
    "1. [Pre-requisitos](#scrollTo=WHDyLMetUr6e&line=9&uniqifier=1)\n",
    "2. [El problema a resolver](#scrollTo=-tudGJu8WZaD)\n",
    "3. [Los tensores](#scrollTo=0YbDrmdC_BQ3)\n",
    "4. [Los *Datasets* y el set de datos](#scrollTo=UtWKq4Es_bYc)\n",
    "5. [Cómo crear un modelo de *Deep Learning*](#scrollTo=w8lKSWreADfs&line=1&uniqifier=1)\n",
    "6. [Propagación hacia adelante y hacia atrás](#scrollTo=gLUg0KZMAdru&line=11&uniqifier=1)\n",
    "7. [Entrenando y validando un modelo: ejemplo completo](#scrollTo=HdQN4uq_Itu4&line=1&uniqifier=1)\n",
    "8. [Generando predicciones con el modelo entrenado](#scrollTo=iTwsL-8OP6ys&line=12&uniqifier=1)"
   ]
  },
  {
   "cell_type": "markdown",
   "metadata": {
    "id": "WHDyLMetUr6e"
   },
   "source": [
    "## 1. Pre-requisitos\n",
    "\n",
    "Para entender cómo usar Pytorch es necesario entender algunos conceptos básicos. Por tanto sugiero revisar estos videos en el canal de YouTube:\n",
    "\n",
    "- [¿Qué es una Red Neuronal?](https://youtu.be/53GUf747e38)\n",
    "- [¿Qué son los parámetros e hiper-parámetros de un modelo?](https://youtu.be/3Iu5m166rnE)\n",
    "- [¿Qué son los sets de entrenamiento, validación y prueba?](https://youtu.be/79K93XBOsIg)\n",
    "- [¿Qué es el algoritmo del Gradiente Descendente?](https://youtu.be/IKloEocn3Hw)\n",
    "- [¿Qué es la reproducibilidad en el Machine Learning?](https://youtu.be/tVD3PfYMk6g)\n",
    "- [¿Qué es el algoritmo de *back propagation*?](https://www.codificandobits.com/curso/fundamentos-deep-learning-python/redes-neuronales-15-entrenamiento-forward-back-propagation/)"
   ]
  },
  {
   "cell_type": "markdown",
   "metadata": {
    "id": "-tudGJu8WZaD"
   },
   "source": [
    "## 2. El problema a resolver\n",
    "\n",
    "Supondremos un sencillo problema:\n",
    "\n",
    "> Crear una Red Neuronal para clasificar imágenes de dígitos escritos a mano\n",
    "\n",
    "![](https://drive.google.com/uc?export=view&id=1mckSBR3YFtRsblRcVfZ3--g4WR05_4sL)\n",
    "\n",
    "Así:\n",
    "\n",
    "- La entrada a la Red Neuronal serán imágenes en escala de gris, de tamaño 28x28, que contendrán un dígito (entre 0 y 9) escrito a mano\n",
    "- La Red Neuronal tendrá que aprender a clasificar estas imágenes en una de 10 posibles categorías (de 0 a 9).\n",
    "- Así que el dato predicho por la Red Neuronal será una cantidad numérica (entre 0 y 9) que debería coincidir con el dígito escrito en la imagen de entrada\n",
    "\n",
    "Pero antes de implementar la Red debemos entender la forma como Pytorch procesa los datos.\n",
    "\n",
    "Comencemos hablando de los Tensores."
   ]
  },
  {
   "cell_type": "markdown",
   "metadata": {
    "id": "0YbDrmdC_BQ3"
   },
   "source": [
    "## 3. Los tensores\n",
    "\n",
    "> Un tensor es simplemente un **arreglo de datos**\n",
    "\n",
    "Este arreglo puede ser un vector (1 dimensión), una matriz (2 dimensiones) o puede tener 3 o más dimensiones.\n",
    "\n",
    "Los tensores son usados por Pytorch para almacenar **todos los datos usados por el modelo de Deep Learning** (datos de entrada, parámetros, datos de salida).\n",
    "\n",
    "Comencemos creando de forma manual un simple Tensor con cantidades numéricas:\n",
    "\n"
   ]
  },
  {
   "cell_type": "code",
   "execution_count": 1,
   "metadata": {
    "colab": {
     "base_uri": "https://localhost:8080/"
    },
    "executionInfo": {
     "elapsed": 5815,
     "status": "ok",
     "timestamp": 1709235261022,
     "user": {
      "displayName": "Miguel Sotaquirá",
      "userId": "16233284746872182672"
     },
     "user_tz": 300
    },
    "id": "Nh_G2eK2A-m5",
    "outputId": "eb511f47-39d7-4e02-bd33-2542764acba8"
   },
   "outputs": [
    {
     "name": "stdout",
     "output_type": "stream",
     "text": [
      "tensor([[2, 3, 4],\n",
      "        [1, 5, 6]])\n"
     ]
    }
   ],
   "source": [
    "# Importar la librería\n",
    "import torch\n",
    "\n",
    "# Y crear un tensor de forma manual\n",
    "arreglo = [[2,3,4], [1,5,6]] # Arreglo 2D de 2 filas x 3 columnas\n",
    "tensor1 = torch.tensor(arreglo)\n",
    "print(tensor1)"
   ]
  },
  {
   "cell_type": "markdown",
   "metadata": {
    "id": "kRN46LNvZmpG"
   },
   "source": [
    "Una característica importante de los Tensores es que los podemos almacenar en la CPU (por defecto) o en la GPU (lo que permite aprovechar su velocidad de cómputo).\n",
    "\n",
    "Por ejemplo, veamos en qué dispositivo (*device*) está almacenado el tensor que acabamos de crear:"
   ]
  },
  {
   "cell_type": "code",
   "execution_count": 2,
   "metadata": {
    "colab": {
     "base_uri": "https://localhost:8080/"
    },
    "executionInfo": {
     "elapsed": 245,
     "status": "ok",
     "timestamp": 1709235335031,
     "user": {
      "displayName": "Miguel Sotaquirá",
      "userId": "16233284746872182672"
     },
     "user_tz": 300
    },
    "id": "VzkFa5RHBJCc",
    "outputId": "389189c4-7faa-49fc-ef18-eeea721ee546"
   },
   "outputs": [
    {
     "data": {
      "text/plain": [
       "device(type='cpu')"
      ]
     },
     "execution_count": 2,
     "metadata": {},
     "output_type": "execute_result"
    }
   ],
   "source": [
    "tensor1.device"
   ]
  },
  {
   "cell_type": "markdown",
   "metadata": {
    "id": "40Qs7V0gZ8u3"
   },
   "source": [
    "Si ahora nos conectamos a la GPU de Google Colab podemos almacenar esta información en una variable:"
   ]
  },
  {
   "cell_type": "code",
   "execution_count": 3,
   "metadata": {
    "colab": {
     "base_uri": "https://localhost:8080/"
    },
    "executionInfo": {
     "elapsed": 204,
     "status": "ok",
     "timestamp": 1709235395972,
     "user": {
      "displayName": "Miguel Sotaquirá",
      "userId": "16233284746872182672"
     },
     "user_tz": 300
    },
    "id": "85384ICyaKf3",
    "outputId": "5791679b-4bf9-40dd-b03a-b25837d1c692"
   },
   "outputs": [
    {
     "name": "stdout",
     "output_type": "stream",
     "text": [
      "Usando cpu\n"
     ]
    }
   ],
   "source": [
    "# Detectar la GPU\n",
    "device = (\n",
    "    \"cuda\" if torch.cuda.is_available()\n",
    "    else \"cpu\"\n",
    ")\n",
    "print(f\"Usando {device}\")"
   ]
  },
  {
   "cell_type": "markdown",
   "metadata": {
    "id": "BSX9Kw8VaP8c"
   },
   "source": [
    "Y podemos almacenar el tensor en la GPU usando el método \"to\":"
   ]
  },
  {
   "cell_type": "code",
   "execution_count": 4,
   "metadata": {
    "colab": {
     "base_uri": "https://localhost:8080/"
    },
    "executionInfo": {
     "elapsed": 208,
     "status": "ok",
     "timestamp": 1709235437749,
     "user": {
      "displayName": "Miguel Sotaquirá",
      "userId": "16233284746872182672"
     },
     "user_tz": 300
    },
    "id": "vrwzOl2tBgb2",
    "outputId": "c73ce764-e41f-4aaf-83d6-ecba7c7f20e0"
   },
   "outputs": [
    {
     "name": "stdout",
     "output_type": "stream",
     "text": [
      "cpu\n"
     ]
    }
   ],
   "source": [
    "tensor1 = tensor1.to(device)\n",
    "print(tensor1.device)"
   ]
  },
  {
   "cell_type": "markdown",
   "metadata": {
    "id": "KxiYPA0faXbN"
   },
   "source": [
    "Con esto, si realizamos cualquier operación con este tensor ésta será realizada sobre la GPU (sobre esto volveremos en unos momentos).\n",
    "\n",
    "Y por ser un arreglo, un Tensor tiene atributos como por ejemplo su tamaño (`shape`):"
   ]
  },
  {
   "cell_type": "code",
   "execution_count": 5,
   "metadata": {
    "colab": {
     "base_uri": "https://localhost:8080/"
    },
    "executionInfo": {
     "elapsed": 269,
     "status": "ok",
     "timestamp": 1709235456129,
     "user": {
      "displayName": "Miguel Sotaquirá",
      "userId": "16233284746872182672"
     },
     "user_tz": 300
    },
    "id": "7XkLz1KLBeTp",
    "outputId": "d72fcfb3-35fb-4ade-9387-dc512a47e0f9"
   },
   "outputs": [
    {
     "data": {
      "text/plain": [
       "torch.Size([2, 3])"
      ]
     },
     "execution_count": 5,
     "metadata": {},
     "output_type": "execute_result"
    }
   ],
   "source": [
    "tensor1.shape"
   ]
  },
  {
   "cell_type": "markdown",
   "metadata": {
    "id": "oj_mknGRaq1S"
   },
   "source": [
    "Y podemos acceder al listado completo de atributos usando `tensor1.` + <kbd>⇥ Tab</kbd>:"
   ]
  },
  {
   "cell_type": "code",
   "execution_count": null,
   "metadata": {
    "id": "iPED1CXuargQ"
   },
   "outputs": [],
   "source": [
    "tensor1."
   ]
  },
  {
   "cell_type": "markdown",
   "metadata": {
    "id": "N_NAce9WbOK3"
   },
   "source": [
    "Usualmente no es necesario trabajar directamente con los tensores así que de momento es suficiente con que entendamos qué son y para qué se usan.\n",
    "\n",
    "Veamos ahora los *Datasets* y el set de datos que usaremos en este tutorial."
   ]
  },
  {
   "cell_type": "markdown",
   "metadata": {
    "id": "UtWKq4Es_bYc"
   },
   "source": [
    "## 4. Los *Datasets* y el set de datos\n",
    "\n",
    "En Pytorch existen dos módulos que nos permiten cargar sets de datos:\n",
    "\n",
    "- `torch.utils.data.Dataset`: nos permite cargar datasets que se encuentran en la base de datos de Pytorch\n",
    "- `torch.utils.data.DataLoader`: nos permite cargar datasets propios así como **iterar** sobre un `Dataset`.\n",
    "\n",
    "En este tutorial usaremos estos dos métodos:\n",
    "\n",
    "1. Primero usaremos `torchvision.datasets` para cargar el set de datos de imágenes de caracteres\n",
    "2. Más adelante usaremos `torch.utils.data.DataLoader` para iterar sobre el set de datos de imágenes y así entrenar y validar el modelo\n",
    "\n",
    "Comencemos usando `torchvision.datasets` para cargar un set de datos pre-existente.\n",
    "\n",
    "### 4.1. Descargar el set de datos\n",
    "\n",
    "Usaremos el set de datos MNIST, el cual contiene un total de 60.000 imágenes cada una con un dígito (entre 0 y 9) escrito a mano. Además, por cada imagen se tiene su categoría correspondiente (una cantidad numérica entre 0 y 9).\n",
    "\n",
    "Comencemos descargando este set de datos desde la base de datos de Pytorch:\n"
   ]
  },
  {
   "cell_type": "code",
   "execution_count": 6,
   "metadata": {
    "colab": {
     "base_uri": "https://localhost:8080/"
    },
    "executionInfo": {
     "elapsed": 4530,
     "status": "ok",
     "timestamp": 1709235746942,
     "user": {
      "displayName": "Miguel Sotaquirá",
      "userId": "16233284746872182672"
     },
     "user_tz": 300
    },
    "id": "zExZ2ns7czzN",
    "outputId": "7941a686-c391-47c7-98d8-1b59987d9c69"
   },
   "outputs": [
    {
     "name": "stdout",
     "output_type": "stream",
     "text": [
      "Downloading http://yann.lecun.com/exdb/mnist/train-images-idx3-ubyte.gz\n",
      "Downloading http://yann.lecun.com/exdb/mnist/train-images-idx3-ubyte.gz to datos/MNIST/raw/train-images-idx3-ubyte.gz\n"
     ]
    },
    {
     "name": "stderr",
     "output_type": "stream",
     "text": [
      "100%|██████████| 9912422/9912422 [00:00<00:00, 112833674.59it/s]\n"
     ]
    },
    {
     "name": "stdout",
     "output_type": "stream",
     "text": [
      "Extracting datos/MNIST/raw/train-images-idx3-ubyte.gz to datos/MNIST/raw\n",
      "\n",
      "Downloading http://yann.lecun.com/exdb/mnist/train-labels-idx1-ubyte.gz\n",
      "Downloading http://yann.lecun.com/exdb/mnist/train-labels-idx1-ubyte.gz to datos/MNIST/raw/train-labels-idx1-ubyte.gz\n"
     ]
    },
    {
     "name": "stderr",
     "output_type": "stream",
     "text": [
      "100%|██████████| 28881/28881 [00:00<00:00, 11691506.02it/s]\n"
     ]
    },
    {
     "name": "stdout",
     "output_type": "stream",
     "text": [
      "Extracting datos/MNIST/raw/train-labels-idx1-ubyte.gz to datos/MNIST/raw\n",
      "\n",
      "Downloading http://yann.lecun.com/exdb/mnist/t10k-images-idx3-ubyte.gz\n",
      "Downloading http://yann.lecun.com/exdb/mnist/t10k-images-idx3-ubyte.gz to datos/MNIST/raw/t10k-images-idx3-ubyte.gz\n"
     ]
    },
    {
     "name": "stderr",
     "output_type": "stream",
     "text": [
      "100%|██████████| 1648877/1648877 [00:00<00:00, 34033893.67it/s]\n"
     ]
    },
    {
     "name": "stdout",
     "output_type": "stream",
     "text": [
      "Extracting datos/MNIST/raw/t10k-images-idx3-ubyte.gz to datos/MNIST/raw\n",
      "\n",
      "Downloading http://yann.lecun.com/exdb/mnist/t10k-labels-idx1-ubyte.gz\n",
      "Downloading http://yann.lecun.com/exdb/mnist/t10k-labels-idx1-ubyte.gz to datos/MNIST/raw/t10k-labels-idx1-ubyte.gz\n"
     ]
    },
    {
     "name": "stderr",
     "output_type": "stream",
     "text": [
      "100%|██████████| 4542/4542 [00:00<00:00, 10421514.64it/s]\n"
     ]
    },
    {
     "name": "stdout",
     "output_type": "stream",
     "text": [
      "Extracting datos/MNIST/raw/t10k-labels-idx1-ubyte.gz to datos/MNIST/raw\n",
      "\n"
     ]
    }
   ],
   "source": [
    "# Importar librerías requeridas\n",
    "from torchvision import datasets # Para descargar el dataset\n",
    "from torchvision.transforms import ToTensor # Para convertir los datos a Tensores\n",
    "import matplotlib.pyplot as plt # Para graficar las imágenes + categorías\n",
    "\n",
    "# Crear el directorio \"datos\" y ejecutar el siguiente código:\n",
    "data_mnist = datasets.MNIST(\n",
    "    root = \"datos\", # Carpeta donde se almacenará\n",
    "    train=True, # True: 60.000 imágenes, False: 10.000 imágenes\n",
    "    download=True,\n",
    "    transform=ToTensor() # Convertir imágenes a tensores\n",
    ")"
   ]
  },
  {
   "cell_type": "markdown",
   "metadata": {
    "id": "_32H0oG-dOGk"
   },
   "source": [
    "Al ejecutar la anterior celda se creará la carpeta \"datos\" en el disco remoto de Google Colab y allí se almacenará la totalidad del set de datos.\n",
    "\n",
    "Veamos algunas características del set de datos que acabamos de descargar:"
   ]
  },
  {
   "cell_type": "code",
   "execution_count": 7,
   "metadata": {
    "colab": {
     "base_uri": "https://localhost:8080/"
    },
    "executionInfo": {
     "elapsed": 205,
     "status": "ok",
     "timestamp": 1709235780578,
     "user": {
      "displayName": "Miguel Sotaquirá",
      "userId": "16233284746872182672"
     },
     "user_tz": 300
    },
    "id": "K3_02WEHDvHv",
    "outputId": "89f694e5-2de7-42ea-c112-bb8090087ec5"
   },
   "outputs": [
    {
     "data": {
      "text/plain": [
       "Dataset MNIST\n",
       "    Number of datapoints: 60000\n",
       "    Root location: datos\n",
       "    Split: Train\n",
       "    StandardTransform\n",
       "Transform: ToTensor()"
      ]
     },
     "execution_count": 7,
     "metadata": {},
     "output_type": "execute_result"
    }
   ],
   "source": [
    "data_mnist"
   ]
  },
  {
   "cell_type": "markdown",
   "metadata": {
    "id": "fk2qn9_AdbWF"
   },
   "source": [
    "Vemos que tiene un total de 60.000 imágenes y que en últimas es una variable de tipo \"Dataset\".\n",
    "\n",
    "Grafiquemos algunas imágenes de ejemplo para entender las características del set de datos:"
   ]
  },
  {
   "cell_type": "code",
   "execution_count": 8,
   "metadata": {
    "colab": {
     "base_uri": "https://localhost:8080/",
     "height": 675
    },
    "executionInfo": {
     "elapsed": 959,
     "status": "ok",
     "timestamp": 1709235954066,
     "user": {
      "displayName": "Miguel Sotaquirá",
      "userId": "16233284746872182672"
     },
     "user_tz": 300
    },
    "id": "rmMGCxhDEQyc",
    "outputId": "11994b0d-087c-449f-add6-5abdc281715b"
   },
   "outputs": [
    {
     "data": {
      "image/png": "[encoded data removed]",
      "text/plain": [
       "<Figure size 800x800 with 9 Axes>"
      ]
     },
     "metadata": {},
     "output_type": "display_data"
    }
   ],
   "source": [
    "figure = plt.figure(figsize=(8, 8))\n",
    "fils, cols = 3, 3\n",
    "\n",
    "for i in range(1, cols * fils + 1):\n",
    "    # Escoger una imagen aleatoria\n",
    "    sample_idx = torch.randint(len(data_mnist), size=(1,)).item()\n",
    "\n",
    "    # Extraer imagen y categoría\n",
    "    img, label = data_mnist[sample_idx]\n",
    "\n",
    "    # Dibujar\n",
    "    figure.add_subplot(fils, cols, i)\n",
    "    plt.title(str(label)) # Categoría\n",
    "    plt.axis(\"off\")\n",
    "    plt.imshow(img.squeeze(), cmap=\"gray\") # Imagen\n",
    "plt.show()"
   ]
  },
  {
   "cell_type": "markdown",
   "metadata": {
    "id": "NEw9KpABeFPj"
   },
   "source": [
    "Imprimamos en pantalla algunas características de una de estas imágenes y de su categoría:"
   ]
  },
  {
   "cell_type": "code",
   "execution_count": 9,
   "metadata": {
    "colab": {
     "base_uri": "https://localhost:8080/"
    },
    "executionInfo": {
     "elapsed": 190,
     "status": "ok",
     "timestamp": 1709236025001,
     "user": {
      "displayName": "Miguel Sotaquirá",
      "userId": "16233284746872182672"
     },
     "user_tz": 300
    },
    "id": "nh1SczeEEosO",
    "outputId": "609ba8a4-76b8-4a79-d2ff-ca4908c8c2f9"
   },
   "outputs": [
    {
     "name": "stdout",
     "output_type": "stream",
     "text": [
      "Tipo de dato imagen: <class 'torch.Tensor'>\n",
      "Tamaño imagen: torch.Size([1, 28, 28])\n",
      "Mínimo y máximo imagen: 0.0, 1.0\n",
      "Tipo de dato categoría: <class 'int'>\n"
     ]
    }
   ],
   "source": [
    "# Características de una imagen\n",
    "print(f'Tipo de dato imagen: {type(img)}')\n",
    "print(f'Tamaño imagen: {img.shape}')\n",
    "print(f'Mínimo y máximo imagen: {img.min()}, {img.max()}')\n",
    "print(f'Tipo de dato categoría: {type(label)}')"
   ]
  },
  {
   "cell_type": "markdown",
   "metadata": {
    "id": "PGQoAhWGeU-_"
   },
   "source": [
    "Cada imagen tiene estas características:\n",
    "\n",
    "- Es un Tensor\n",
    "- Tiene un tamaño de 1x28x28 (el 1 indica que es una imagen en escala de grises)\n",
    "- Sus pixeles tienen valores entre 0 y 1\n",
    "\n",
    "Por otra parte es importante tener en cuenta que la categoría está por defecto almacenada como un entero (*int*) y no como un tensor. Esto implica que más adelante **tendremos que convertir la categoría de cada imagen a un tensor para que pueda ser procesada por la Red Neuronal.**"
   ]
  },
  {
   "cell_type": "markdown",
   "metadata": {
    "id": "AUdKYh0gevik"
   },
   "source": [
    "### 4.2. Sets de entrenamiento, validación y prueba\n",
    "\n",
    "Siempre que construimos un modelo de Deep Learning debemos realizar la partición del set de datos en entrenamiento, validación y prueba.\n",
    "\n",
    "En este caso haremos la partición usando proporciones del 80, 10 y 10% respectivamente.\n",
    "\n",
    "Esto lo podemos lograr fácilmente usando el método `random_split` de Pytorch.\n",
    "\n",
    "Para ello, primero fijamos la semilla del generador de números aleatorio de Pytorch, lo que garantizará que cada vez que ejecutemos el código obtendremos las mismas particiones:"
   ]
  },
  {
   "cell_type": "code",
   "execution_count": 10,
   "metadata": {
    "colab": {
     "base_uri": "https://localhost:8080/"
    },
    "executionInfo": {
     "elapsed": 224,
     "status": "ok",
     "timestamp": 1709236250961,
     "user": {
      "displayName": "Miguel Sotaquirá",
      "userId": "16233284746872182672"
     },
     "user_tz": 300
    },
    "id": "lYYGy3fffK0H",
    "outputId": "c4cbeffe-4ea3-4390-97b6-ec93f794b950"
   },
   "outputs": [
    {
     "data": {
      "text/plain": [
       "<torch._C.Generator at 0x7d98900c58f0>"
      ]
     },
     "execution_count": 10,
     "metadata": {},
     "output_type": "execute_result"
    }
   ],
   "source": [
    "torch.manual_seed(123)"
   ]
  },
  {
   "cell_type": "markdown",
   "metadata": {
    "id": "9YcovfBzfM_J"
   },
   "source": [
    "Y ahora sí usamos `random_split` para generar las particiones con las proporciones deseadas (80, 10 y 10%):"
   ]
  },
  {
   "cell_type": "code",
   "execution_count": 11,
   "metadata": {
    "colab": {
     "base_uri": "https://localhost:8080/"
    },
    "executionInfo": {
     "elapsed": 185,
     "status": "ok",
     "timestamp": 1709236322475,
     "user": {
      "displayName": "Miguel Sotaquirá",
      "userId": "16233284746872182672"
     },
     "user_tz": 300
    },
    "id": "52CUpU_UE2si",
    "outputId": "1c5c76ab-1f1d-4806-f917-38d9a8001b39"
   },
   "outputs": [
    {
     "name": "stdout",
     "output_type": "stream",
     "text": [
      "Tamaño set de entrenamiento: 48000\n",
      "Tamaño set de validación: 6000\n",
      "Tamaño set de prueba: 6000\n",
      "Tipo de dato set \"train\": <class 'torch.utils.data.dataset.Subset'>\n",
      "Tipo de dato set \"val\": <class 'torch.utils.data.dataset.Subset'>\n",
      "Tipo de dato set \"test\": <class 'torch.utils.data.dataset.Subset'>\n"
     ]
    }
   ],
   "source": [
    "train, val, test = torch.utils.data.random_split(\n",
    "    data_mnist, [0.8, 0.1, 0.1]\n",
    ")\n",
    "\n",
    "# Verificar tamaños\n",
    "print(f'Tamaño set de entrenamiento: {len(train)}')\n",
    "print(f'Tamaño set de validación: {len(val)}')\n",
    "print(f'Tamaño set de prueba: {len(test)}')\n",
    "\n",
    "# Y verificar el tipo de dato de train, val y test\n",
    "print(f'Tipo de dato set \"train\": {type(train)}')\n",
    "print(f'Tipo de dato set \"val\": {type(val)}')\n",
    "print(f'Tipo de dato set \"test\": {type(test)}')"
   ]
  },
  {
   "cell_type": "markdown",
   "metadata": {
    "id": "Hhg10GF6x_sF"
   },
   "source": [
    "Y vemos que los tres subsets de datos son de tipo `dataset`.\n",
    "\n",
    "Ya estamos listos para ver cómo crear el modelo (la Red Neuronal)."
   ]
  },
  {
   "cell_type": "markdown",
   "metadata": {
    "id": "w8lKSWreADfs"
   },
   "source": [
    "## 5. ¿Cómo crear un modelo de *Deep Learning*?\n",
    "\n",
    "Crearemos una sencilla Red Neuronal con estas características:\n",
    "\n",
    "- Capa de entrada: 28x28 = 784 elementos\n",
    "- Capa oculta: 15 neuronas, activación ReLU\n",
    "- Capa de salida: 10 neuronas (1 por cada categoría a predecir), activación *softmax*\n",
    "\n",
    "![](https://drive.google.com/uc?export=view&id=1md-A_Qc1cbBKnWVTfUm4qv2egv1bwX_o)\n",
    "\n",
    "Adicionalmente, antes de llevar cada imagen a la Red tendremos que **aplanarla** para convertirla de un tensor 3D de 1x28x28 a un tensor de 1D de 28x28 = 784 (el mismo tamaño de la capa de entrada de la Red):\n",
    "\n",
    "![](https://drive.google.com/uc?export=view&id=1md2CPT14WYV2K6bJppamDsi_-6pUpLxH)\n",
    "\n",
    "Para crear la Red Neuronal debemos **crear una sub-clase de `nn.Module`**. Veamos cómo hacerlo:"
   ]
  },
  {
   "cell_type": "code",
   "execution_count": 12,
   "metadata": {
    "executionInfo": {
     "elapsed": 222,
     "status": "ok",
     "timestamp": 1709237095287,
     "user": {
      "displayName": "Miguel Sotaquirá",
      "userId": "16233284746872182672"
     },
     "user_tz": 300
    },
    "id": "QgKlVKSo1Q3e"
   },
   "outputs": [],
   "source": [
    "# Importar módulo nn\n",
    "from torch import nn\n",
    "\n",
    "# Crear la Red Neuronal como una subclase de nn.Module\n",
    "# Siempre se añaden dos métodos a esta subclase\n",
    "# 1. Método \"init\": define la arquitectura de la red\n",
    "# 2. Método \"forward\": define cómo será generada cada predicción\n",
    "\n",
    "class RedNeuronal(nn.Module):\n",
    "    # 1. Método \"init\"\n",
    "    def __init__(self):\n",
    "        super().__init__()\n",
    "\n",
    "        # Y agregar secuencialmente las capas\n",
    "        self.aplanar = nn.Flatten() # Aplanar imágenes de entrada\n",
    "        self.red = nn.Sequential(\n",
    "            nn.Linear(28*28, 15), # Capa de entrada + capa oculta\n",
    "            nn.ReLU(), # Función de activación capa oculta\n",
    "            nn.Linear(15,10), # Capa de salida SIN activación\n",
    "        )\n",
    "\n",
    "    # 2. Método \"forward\" (x = dato de entrada)\n",
    "    def forward(self, x):\n",
    "        # Definir secuencialmente las operaciones a aplicar\n",
    "        x = self.aplanar(x) # Aplanar dato\n",
    "        logits = self.red(x) # Generar predicción\n",
    "\n",
    "        return logits\n"
   ]
  },
  {
   "cell_type": "markdown",
   "metadata": {
    "id": "wr4Jfff_4L_t"
   },
   "source": [
    "> Nota: a pesar de que la capa de salida debería tener una activación *softmax* esta no se incluye porque no es necesaria para el entrenamiento (sólo es necesaria para garantizar que las salidas de cada neurona de salida suman exactamente 1).\n",
    "\n",
    "Habiendo creado la clase ya podemos crear la Red Neuronal simplemente:\n",
    "\n",
    "1. Creando una instancia de la clase `RedNeuronal`\n",
    "2. Y moviendo esta instancia a la GPU"
   ]
  },
  {
   "cell_type": "code",
   "execution_count": 13,
   "metadata": {
    "colab": {
     "base_uri": "https://localhost:8080/"
    },
    "executionInfo": {
     "elapsed": 224,
     "status": "ok",
     "timestamp": 1709237197112,
     "user": {
      "displayName": "Miguel Sotaquirá",
      "userId": "16233284746872182672"
     },
     "user_tz": 300
    },
    "id": "sgyjy11kAEjc",
    "outputId": "67dc6086-75fe-4596-ef90-4680dca2fef5"
   },
   "outputs": [
    {
     "name": "stdout",
     "output_type": "stream",
     "text": [
      "RedNeuronal(\n",
      "  (aplanar): Flatten(start_dim=1, end_dim=-1)\n",
      "  (red): Sequential(\n",
      "    (0): Linear(in_features=784, out_features=15, bias=True)\n",
      "    (1): ReLU()\n",
      "    (2): Linear(in_features=15, out_features=10, bias=True)\n",
      "  )\n",
      ")\n"
     ]
    }
   ],
   "source": [
    "modelo = RedNeuronal().to(device)\n",
    "print(modelo)"
   ]
  },
  {
   "cell_type": "markdown",
   "metadata": {
    "id": "1gvcl1rH5Gra"
   },
   "source": [
    "Podemos usar el método `parameters()` para imprimir en pantalla el número de parámetros a entrenar en este modelo:"
   ]
  },
  {
   "cell_type": "code",
   "execution_count": 14,
   "metadata": {
    "colab": {
     "base_uri": "https://localhost:8080/"
    },
    "executionInfo": {
     "elapsed": 193,
     "status": "ok",
     "timestamp": 1709237274820,
     "user": {
      "displayName": "Miguel Sotaquirá",
      "userId": "16233284746872182672"
     },
     "user_tz": 300
    },
    "id": "5iA8jYQtAQDE",
    "outputId": "e1c2e8fa-565c-4f3e-d763-714a95391f36"
   },
   "outputs": [
    {
     "name": "stdout",
     "output_type": "stream",
     "text": [
      "Número de parámetros a entrenar:  11935\n"
     ]
    }
   ],
   "source": [
    "total_params = sum(p.numel() for p in modelo.parameters())\n",
    "print(\"Número de parámetros a entrenar: \", total_params)"
   ]
  },
  {
   "cell_type": "markdown",
   "metadata": {
    "id": "gLUg0KZMAdru"
   },
   "source": [
    "## 6. Propagación hacia adelante y hacia atrás\n",
    "\n",
    "La propagación hacia adelante y hacia atrás son las dos fases clave al momento de entrenar la Red Neuronal.\n",
    "\n",
    "Veamos cada fase en detalle:\n",
    "\n",
    "### 6.1. Propagación hacia adelante (*forward propagation*)\n",
    "\n",
    "Con la propagación hacia adelante se toma el dato de entrada ($X$), la Red lo procesa y genera una predicción ($y_{pred}$ ):\n",
    "\n",
    "![](https://drive.google.com/uc?export=view&id=1meBLFk2SO5uOhWms2pQ4QdzWgGgOaT8q)\n",
    "\n",
    "Veamos cómo realizar la propagación hacia adelante:"
   ]
  },
  {
   "cell_type": "code",
   "execution_count": 15,
   "metadata": {
    "colab": {
     "base_uri": "https://localhost:8080/"
    },
    "executionInfo": {
     "elapsed": 5,
     "status": "ok",
     "timestamp": 1709237423512,
     "user": {
      "displayName": "Miguel Sotaquirá",
      "userId": "16233284746872182672"
     },
     "user_tz": 300
    },
    "id": "pi86fqdC7EGL",
    "outputId": "f1f7190f-2d51-421c-85ce-8436652e367d"
   },
   "outputs": [
    {
     "name": "stdout",
     "output_type": "stream",
     "text": [
      "<class 'torch.Tensor'>\n",
      "<class 'int'>\n"
     ]
    }
   ],
   "source": [
    "# Extraer una imagen y su categoría del set de entrenamiento\n",
    "img, lbl = train[200]\n",
    "\n",
    "print(type(img))\n",
    "print(type(lbl))"
   ]
  },
  {
   "cell_type": "markdown",
   "metadata": {
    "id": "u3UTnVV87XWv"
   },
   "source": [
    "Vemos que la imagen es un Tensor mientras que la categoría es un entero. Debemos convertir esta categoría a un tensor para poder presentarla al modelo:"
   ]
  },
  {
   "cell_type": "code",
   "execution_count": 16,
   "metadata": {
    "colab": {
     "base_uri": "https://localhost:8080/"
    },
    "executionInfo": {
     "elapsed": 185,
     "status": "ok",
     "timestamp": 1709237465388,
     "user": {
      "displayName": "Miguel Sotaquirá",
      "userId": "16233284746872182672"
     },
     "user_tz": 300
    },
    "id": "Pu4U2mNz7dTc",
    "outputId": "776e1c2e-fdf8-40c4-ed9b-62773c67827b"
   },
   "outputs": [
    {
     "name": "stdout",
     "output_type": "stream",
     "text": [
      "<class 'torch.Tensor'>\n"
     ]
    }
   ],
   "source": [
    "# Convertir \"lbl\" a Tensor usando \"tensor\", definir tamaño igual a 1 (1 dato)\n",
    "# con \"reshape\"\n",
    "lbl = torch.tensor(lbl).reshape(1)\n",
    "print(type(lbl))"
   ]
  },
  {
   "cell_type": "markdown",
   "metadata": {
    "id": "BRQLcoPJ8k8M"
   },
   "source": [
    "Ahora llevamos tanto el dato como su categoría a la GPU:"
   ]
  },
  {
   "cell_type": "code",
   "execution_count": 17,
   "metadata": {
    "executionInfo": {
     "elapsed": 215,
     "status": "ok",
     "timestamp": 1709237493826,
     "user": {
      "displayName": "Miguel Sotaquirá",
      "userId": "16233284746872182672"
     },
     "user_tz": 300
    },
    "id": "w-bqC9Ez8qVv"
   },
   "outputs": [],
   "source": [
    "img, lbl = img.to(device), lbl.to(device)"
   ]
  },
  {
   "cell_type": "markdown",
   "metadata": {
    "id": "7HX2Pl_kCQcG"
   },
   "source": [
    "Y ahora sí propagamos el dato hacia adelante:"
   ]
  },
  {
   "cell_type": "code",
   "execution_count": 18,
   "metadata": {
    "colab": {
     "base_uri": "https://localhost:8080/"
    },
    "executionInfo": {
     "elapsed": 194,
     "status": "ok",
     "timestamp": 1709237526638,
     "user": {
      "displayName": "Miguel Sotaquirá",
      "userId": "16233284746872182672"
     },
     "user_tz": 300
    },
    "id": "fJw1Kj7eCTt0",
    "outputId": "b91ac283-a104-42fd-de98-cc815ae86da1"
   },
   "outputs": [
    {
     "name": "stdout",
     "output_type": "stream",
     "text": [
      "tensor([[ 0.1762, -0.0300,  0.1198, -0.0336, -0.0994,  0.0021, -0.1259,  0.0016,\n",
      "          0.0412,  0.1990]], grad_fn=<AddmmBackward0>)\n"
     ]
    }
   ],
   "source": [
    "logits = modelo(img)\n",
    "print(logits)"
   ]
  },
  {
   "cell_type": "markdown",
   "metadata": {
    "id": "nvXN8LiyCbWT"
   },
   "source": [
    "La predicción (o *logits*) es un arreglo **no normalizado** de 10 valores numéricos (puesto que tenemos 10 categorías).\n",
    "\n",
    "No normalizado implica que su suma no es igual a 1. Para normalizarlo se puede usar la función *softmax* aunque no es necesario, podemos calcular la categoría predicha simplemente encontrando la posición donde se encuentre el valor máximo:"
   ]
  },
  {
   "cell_type": "code",
   "execution_count": 19,
   "metadata": {
    "colab": {
     "base_uri": "https://localhost:8080/",
     "height": 501
    },
    "executionInfo": {
     "elapsed": 532,
     "status": "ok",
     "timestamp": 1709237649972,
     "user": {
      "displayName": "Miguel Sotaquirá",
      "userId": "16233284746872182672"
     },
     "user_tz": 300
    },
    "id": "aCo1g4nhC5q8",
    "outputId": "fce9356b-1e0e-4494-a130-153fcc9674c0"
   },
   "outputs": [
    {
     "name": "stdout",
     "output_type": "stream",
     "text": [
      "Logits: tensor([[ 0.1762, -0.0300,  0.1198, -0.0336, -0.0994,  0.0021, -0.1259,  0.0016,\n",
      "          0.0412,  0.1990]], grad_fn=<AddmmBackward0>)\n",
      "Categoría predicha: 9\n",
      "Categoría real: 6\n"
     ]
    },
    {
     "data": {
      "image/png": "[encoded data removed]",
      "text/plain": [
       "<Figure size 640x480 with 1 Axes>"
      ]
     },
     "metadata": {},
     "output_type": "display_data"
    }
   ],
   "source": [
    "# Categoría predicha\n",
    "y_pred = logits.argmax(1)\n",
    "\n",
    "# Mostremos la imagen original\n",
    "plt.imshow(img.cpu().squeeze(), cmap=\"gray\");\n",
    "\n",
    "# Y comparemos la categoría predicha con la categoría real\n",
    "print(f'Logits: {logits}')\n",
    "print(f'Categoría predicha: {y_pred[0]}')\n",
    "print(f'Categoría real: {lbl[0]}')"
   ]
  },
  {
   "cell_type": "markdown",
   "metadata": {
    "id": "U2HUJF2eD4gi"
   },
   "source": [
    "¡Es de esperar que la categoría predicha (0) no coincida con la categoría real (6) puesto que no hemos entrenado la Red Neuronal!\n",
    "\n",
    "Veamos ahora la segunda fase que hace parte del entrenamiento: la propagación hacia atrás."
   ]
  },
  {
   "cell_type": "markdown",
   "metadata": {
    "id": "S57KJRyNEEMY"
   },
   "source": [
    "### 6.2. Propagación hacia atrás (*backward propagation* o *backprop*)\n",
    "\n",
    "Esta propagación hacia atrás permite **actualizar los parámetros del modelo con base en el gradiente de la pérdida**.\n",
    "\n",
    "La idea básica es **ajustar estos parámetros para minimizar la pérdida** (mejorando así las predicciones).\n",
    "\n",
    "Los pasos involucrados en esta propagación hacia atrás son:\n",
    "\n",
    "0. Definir la **pérdida** (función que se usará para comparar las predicciones con las categorías reales) y el **optimizador** (algoritmo que se usará para ajustar los parámetros y minimizar la pérdida)\n",
    "1. Tomar cada predicción (*logits*), compararla con la categoría real correspondiente ($y$) y calcular la **pérdida** ($loss$)\n",
    "2. Calcular los **gradientes** de la pérdida (derivadas con respecto a cada parámetro)\n",
    "3. Actualizar los parámetros del modelo usando los gradientes y un algoritmo de optimización (como por ejemplo el Gradiente Descendente):\n",
    "\n",
    "![](https://drive.google.com/uc?export=view&id=1meRc9wEIKcSzj2X3lR7DgTgoIs5ixqHJ)\n",
    "\n",
    "Veamos cómo implementar cada uno de estos pasos.\n",
    "\n",
    "Comencemos definiendo la función de pérdida (entropía cruzada) y el optimizador a usar (Gradiente Descendente). En este último caso usaremos una tasa de aprendizaje de 0.2:"
   ]
  },
  {
   "cell_type": "code",
   "execution_count": 21,
   "metadata": {
    "executionInfo": {
     "elapsed": 213,
     "status": "ok",
     "timestamp": 1709238119311,
     "user": {
      "displayName": "Miguel Sotaquirá",
      "userId": "16233284746872182672"
     },
     "user_tz": 300
    },
    "id": "fcX0dCdcCPtR"
   },
   "outputs": [],
   "source": [
    "# 0. Pérdida y optimizador\n",
    "fn_perdida = nn.CrossEntropyLoss()\n",
    "optimizador = torch.optim.SGD(modelo.parameters(), lr=0.2) # se ponen acá los parámetros para que se actualícen"
   ]
  },
  {
   "cell_type": "markdown",
   "metadata": {
    "id": "vHr-UQ0IFE54"
   },
   "source": [
    "Vemos que al definir el optimizador el primer argumento son los parámetros del modelo (`modelo.parameters()`).\n",
    "\n",
    "Esto permite \"conectar\" el modelo al optimizador de tal manera que durante el entrenamiento el optimizador pueda ajustar los parámetros para mejorar las predicciones.\n",
    "\n",
    "Ahora tomamos la predicción (que se obtuvo con la propagación hacia adelante), la comparamos con la categoría real y calculamos la pérdida. La\n",
    "\n",
    "\n",
    "Esto se hace con una sola línea de código:"
   ]
  },
  {
   "cell_type": "code",
   "execution_count": 22,
   "metadata": {
    "colab": {
     "base_uri": "https://localhost:8080/"
    },
    "executionInfo": {
     "elapsed": 201,
     "status": "ok",
     "timestamp": 1709238122501,
     "user": {
      "displayName": "Miguel Sotaquirá",
      "userId": "16233284746872182672"
     },
     "user_tz": 300
    },
    "id": "LRpf3jl-Fi5u",
    "outputId": "e3906423-78ea-4e3b-9857-3fc5966b7f08"
   },
   "outputs": [
    {
     "name": "stdout",
     "output_type": "stream",
     "text": [
      "tensor(2.4591, grad_fn=<NllLossBackward0>)\n"
     ]
    }
   ],
   "source": [
    "# 1. Calcular pérdida\n",
    "loss = fn_perdida(logits, lbl)\n",
    "print(loss)"
   ]
  },
  {
   "cell_type": "markdown",
   "metadata": {
    "id": "I-tedsIYGSLC"
   },
   "source": [
    "Ahora calculamos los gradientes de la pérdida. Esto logra usando el método `backward()` asociado a la variable `loss`:\n"
   ]
  },
  {
   "cell_type": "code",
   "execution_count": null,
   "metadata": {
    "id": "LTq4dcjBGm12"
   },
   "outputs": [],
   "source": [
    "# 2. Calcular los gradientes de la pérdida\n",
    "loss.backward()"
   ]
  },
  {
   "cell_type": "markdown",
   "metadata": {
    "id": "2n3lAL8tG2B9"
   },
   "source": [
    "Y finalmente actualizamos los parámetros del modelo usando el optimizador.\n",
    "\n",
    "Esto se logra en dos pasos:\n",
    "\n",
    "1. Usando el método `step()` que actualiza los parámetros del modelo\n",
    "2. Usando el método `zero_grad()` para explícitamente borrar los gradientes calculados anteriormente (pues Pytorch los deja almacenados y esto afecta el entrenamiento).\n",
    "\n",
    "Estos dos pasos los podemos implementar en dos líneas de código:"
   ]
  },
  {
   "cell_type": "code",
   "execution_count": 23,
   "metadata": {
    "executionInfo": {
     "elapsed": 211,
     "status": "ok",
     "timestamp": 1709238267190,
     "user": {
      "displayName": "Miguel Sotaquirá",
      "userId": "16233284746872182672"
     },
     "user_tz": 300
    },
    "id": "k3sv4nznHCJq"
   },
   "outputs": [],
   "source": [
    "# 3. Actualizar los parámetros del modelo\n",
    "optimizador.step()\n",
    "optimizador.zero_grad()"
   ]
  },
  {
   "cell_type": "markdown",
   "metadata": {
    "id": "IwQVRzSNHvKr"
   },
   "source": [
    "Y listo, ya tenemos la propagación hacia atrás.\n",
    "\n",
    "Así que para resumir, re-escribamos todas las líneas de código anteriores para combinar en un sólo bloque la propagación hacia adelante y hacia atrás:"
   ]
  },
  {
   "cell_type": "code",
   "execution_count": null,
   "metadata": {
    "id": "JS-fSvXKH5od"
   },
   "outputs": [],
   "source": [
    "# img: dato, lbl: categoría real\n",
    "\n",
    "# Propagación hacia adelante (generar predicciones)\n",
    "logits = modelo(img)\n",
    "\n",
    "# Propagación hacia atrás\n",
    "loss = fn_perdida(logits, lbl) # Perdida\n",
    "loss.backward() # Calcular gradientes\n",
    "optimizador.step() # Actualizar parámetros del modelo\n",
    "optimizador.zero_grad() # Borrar gradientes calculados anteriormente"
   ]
  },
  {
   "cell_type": "markdown",
   "metadata": {
    "id": "p7LU5hcnIWWk"
   },
   "source": [
    "Y listo, tenemos en muy pocas líneas de código los dos pasos esenciales en el entrenamiento de cualquier modelo de Deep Learning: *forward* + *back* *propagation*.\n",
    "\n",
    "Al entrenar el modelo no usaremos una sola imagen sino que usaremos todo el set de entrenamiento. Y además repetiremos la anterior celda de código varias veces (el número de iteraciones de entrenamiento que definamos).\n",
    "\n",
    "Así que con todo lo visto hasta este punto ya estamos listos para conectar todos estos elementos y ver cómo se crea, entrena y valida nuestra Red Neuronal para clasificar imágenes."
   ]
  },
  {
   "cell_type": "markdown",
   "metadata": {
    "id": "HdQN4uq_Itu4"
   },
   "source": [
    "## 7. Entrenando y validando un modelo: ejemplo completo\n",
    "\n",
    "En esta última parte simplemente tomaremos las porciones de código de las secciones anteriores y las organizaremos para entender la lógica de creación, entrenamiento y validación de la Red Neuronal.\n",
    "\n",
    "Veamos todo esto en detalle."
   ]
  },
  {
   "cell_type": "markdown",
   "metadata": {
    "id": "CHKMeCURJFVz"
   },
   "source": [
    "### 7.1. Creación de la Red Neuronal\n",
    "\n",
    "Escribamos en una sola celda el código necesario para crear la clase y la instancia correspondiente a nuestro modelo:"
   ]
  },
  {
   "cell_type": "code",
   "execution_count": 24,
   "metadata": {
    "executionInfo": {
     "elapsed": 197,
     "status": "ok",
     "timestamp": 1709238405400,
     "user": {
      "displayName": "Miguel Sotaquirá",
      "userId": "16233284746872182672"
     },
     "user_tz": 300
    },
    "id": "NrYzQfBwJOBC"
   },
   "outputs": [],
   "source": [
    "# Clase\n",
    "class RedNeuronal(nn.Module):\n",
    "    # 1. Método \"init\"\n",
    "    def __init__(self):\n",
    "        super().__init__()\n",
    "\n",
    "        # Y agregar secuencialmente las capas\n",
    "        self.aplanar = nn.Flatten() # Aplanar imágenes de entrada\n",
    "        self.red = nn.Sequential(\n",
    "            nn.Linear(28*28, 15), # Capa de entrada + capa oculta\n",
    "            nn.ReLU(), # Función de activación capa oculta\n",
    "            nn.Linear(15,10), # Capa de salida SIN activación\n",
    "        )\n",
    "\n",
    "    # 2. Método \"forward\" (x = dato de entrada)\n",
    "    def forward(self, x):\n",
    "        # Definir secuencialmente las operaciones a aplicar\n",
    "        x = self.aplanar(x) # Aplanar dato\n",
    "        logits = self.red(x) # Generar predicción\n",
    "\n",
    "        return logits\n",
    "\n",
    "# Instancia (llevada a la GPU)\n",
    "modelo = RedNeuronal().to(device)"
   ]
  },
  {
   "cell_type": "markdown",
   "metadata": {
    "id": "4Esjub4jJZJx"
   },
   "source": [
    "Antes de entrenar la Red (usando el código para la propagación hacia adelante y hacia atrás), debemos preparar nuestros set de entrenamiento y validación. Veamos cómo hacer esto."
   ]
  },
  {
   "cell_type": "markdown",
   "metadata": {
    "id": "l9vTtmibJhgH"
   },
   "source": [
    "### 7.2. Preparar los sets de entrenamiento y validación\n",
    "\n",
    "El set de entrenamiento nos permitirá usar la propagación hacia adelante y hacia atrás para automáticamente actualizar los parámetros del modelo.\n",
    "\n",
    "Por su parte el set de validación se usará para que tras cada iteración de entrenamiento, pongamos a prueba el modelo y verifiquemos su desempeño.\n",
    "\n",
    "Como tenemos muchos datos de entrenamiento (48.000) y muchos de validación (6.000) no podemos presentarlos en bloque al modelo pues habría problemas con la memoria RAM.\n",
    "\n",
    "En lugar de ello los presentamos **por lotes** (*batches*), es decir pequeños grupos de datos.\n",
    "\n",
    "Para poder crear estos lotes y presentarlos al modelo usamos `DataLoader`el segundo módulo de procesamiento de datos que posee Pytorch:"
   ]
  },
  {
   "cell_type": "code",
   "execution_count": 25,
   "metadata": {
    "executionInfo": {
     "elapsed": 4,
     "status": "ok",
     "timestamp": 1709238696130,
     "user": {
      "displayName": "Miguel Sotaquirá",
      "userId": "16233284746872182672"
     },
     "user_tz": 300
    },
    "id": "YyTtsBboKg3T"
   },
   "outputs": [],
   "source": [
    "from torch.utils.data import DataLoader\n",
    "\n",
    "# Definir el tamaño del lote\n",
    "TAM_LOTE = 1000 # batch size\n",
    "\n",
    "# Crear los \"dataloaders\" para los sets de entrenamiento y validación\n",
    "train_loader = DataLoader(\n",
    "    dataset=train,\n",
    "    batch_size=TAM_LOTE,\n",
    "    shuffle=True # Mezclar los datos aleatoriamente al crear cada lote\n",
    ")\n",
    "\n",
    "val_loader = DataLoader(\n",
    "    dataset=val,\n",
    "    batch_size=TAM_LOTE,\n",
    "    shuffle=False\n",
    ")"
   ]
  },
  {
   "cell_type": "markdown",
   "metadata": {
    "id": "swGPKj9MKy4l"
   },
   "source": [
    "Cuando entrenemos y validemos el modelo le presentaremos, en cada iteración, las variables `train_loader` y `val_loader` para que se realice el entrenamiento y la validación.\n",
    "\n",
    "Así que ya tenemos todo listo para realizar este entrenamiento y validación de la red. Veamos el código."
   ]
  },
  {
   "cell_type": "markdown",
   "metadata": {
    "id": "vfbmwRBgLDsb"
   },
   "source": [
    "### 7.3. Entrenamiento y validación del modelo\n",
    "\n",
    "Comencemos definiendo los hiper-parámetros: la tasa de aprendizaje del algoritmo de optimización y el número de iteraciones de entrenamiento:"
   ]
  },
  {
   "cell_type": "code",
   "execution_count": 26,
   "metadata": {
    "executionInfo": {
     "elapsed": 180,
     "status": "ok",
     "timestamp": 1709238791141,
     "user": {
      "displayName": "Miguel Sotaquirá",
      "userId": "16233284746872182672"
     },
     "user_tz": 300
    },
    "id": "9VbCfHq4HRYa"
   },
   "outputs": [],
   "source": [
    "# Hiperparámetros\n",
    "TASA_APRENDIZAJE = 0.1 # learning rate (0.1)\n",
    "EPOCHS = 10 # Número de iteraciones de entrenamiento"
   ]
  },
  {
   "cell_type": "markdown",
   "metadata": {
    "id": "N2lFqGaNLSQO"
   },
   "source": [
    "Ahora definimos la función de pérdida (*entropía cruzada*) y el optimizador (Gradiente Descendente). Este optimizador tendrá la tasa de aprendizaje definida en la celda anterior:"
   ]
  },
  {
   "cell_type": "code",
   "execution_count": 27,
   "metadata": {
    "executionInfo": {
     "elapsed": 189,
     "status": "ok",
     "timestamp": 1709238793282,
     "user": {
      "displayName": "Miguel Sotaquirá",
      "userId": "16233284746872182672"
     },
     "user_tz": 300
    },
    "id": "ExWwmztiADDV"
   },
   "outputs": [],
   "source": [
    "# Función de pérdida y optimizador\n",
    "fn_perdida = nn.CrossEntropyLoss()\n",
    "optimizador = torch.optim.SGD(modelo.parameters(), lr=TASA_APRENDIZAJE)"
   ]
  },
  {
   "cell_type": "markdown",
   "metadata": {
    "id": "bCWsMYOHLgHX"
   },
   "source": [
    "Ahora crearemos la función `train_loop` que se ejecutará en cada iteración del entrenamiento.\n",
    "\n",
    "Esta función usa las dos fases vistas anteriormente: propagación hacia adelante y hacia atrás.\n",
    "\n",
    "Además, en cada iteración calcularemos dos variables que nos permitirán monitorear el progreso del entrenamiento:\n",
    "\n",
    "- `perdida_train`: valores promedio de la función de pérdida en cada iteración\n",
    "- `exactitud`: valores promedio (en cada iteración) de la exactitud del modelo al momento de clasificar los datos. La exactitud es simplemente el porcentaje de datos clasificados correctamente con respecto al total de datos clasificados.\n",
    "\n",
    "Veamos cómo implementar esta función:"
   ]
  },
  {
   "cell_type": "code",
   "execution_count": 28,
   "metadata": {
    "executionInfo": {
     "elapsed": 187,
     "status": "ok",
     "timestamp": 1709239368485,
     "user": {
      "displayName": "Miguel Sotaquirá",
      "userId": "16233284746872182672"
     },
     "user_tz": 300
    },
    "id": "Myv9c7ht-wc6"
   },
   "outputs": [],
   "source": [
    "def train_loop(dataloader, model, loss_fn, optimizer):\n",
    "    # Cantidad de datos de entrenamiento y cantidad de lotes\n",
    "    train_size = len(dataloader.dataset)\n",
    "    nlotes = len(dataloader)\n",
    "\n",
    "    # Indicarle a Pytorch que entrenaremos el modelo\n",
    "    model.train()\n",
    "\n",
    "    # Inicializar acumuladores pérdida y exactitud\n",
    "    perdida_train, exactitud = 0, 0\n",
    "\n",
    "    # Presentar los datos al modelo por lotes (de tamaño TAM_LOTE)\n",
    "    for nlote, (X, y) in enumerate(dataloader):\n",
    "        # Mover \"X\" y \"y\" a la GPU\n",
    "        X, y = X.to(device), y.to(device)\n",
    "\n",
    "        # Forward propagation\n",
    "        logits = model(X)\n",
    "\n",
    "        # Backpropagation\n",
    "        loss = loss_fn(logits, y)\n",
    "        loss.backward()\n",
    "        optimizer.step()\n",
    "        optimizer.zero_grad()\n",
    "\n",
    "        # Acumular valores de pérdida y exactitud\n",
    "        # perdida_train <- perdida_train + perdida_actual\n",
    "        # exactitud <- exactitud + numero_aciertos_actuales\n",
    "        perdida_train += loss.item()\n",
    "        exactitud += (logits.argmax(1)==y).type(torch.float).sum().item()\n",
    "\n",
    "        # Imprimir en pantalla la evolución del entrenamiento (cada 10 lotes)\n",
    "        if nlote % 10 == 0:\n",
    "            # Obtener el valor de la pérdida (loss) y el número de datos procesados (ndatos)\n",
    "            ndatos = nlote*TAM_LOTE\n",
    "\n",
    "            # E imprimir en pantalla\n",
    "            print(f\"\\tPérdida: {loss.item():>7f}  [{ndatos:>5d}/{train_size:>5d}]\")\n",
    "\n",
    "    # Al terminar de presentar todos los datos al modelo, promediar pérdida y exactitud\n",
    "    perdida_train /= nlotes # Pérdida promedio = pérdida acumulada / número de lotes\n",
    "    exactitud /= train_size # Exactitud promedio = exactitud acumulada / número de datos\n",
    "\n",
    "    # E imprimir información\n",
    "    print(f'\\tExactitud/pérdida promedio:')\n",
    "    print(f'\\t\\tEntrenamiento: {(100*exactitud):>0.1f}% / {perdida_train:>8f}')"
   ]
  },
  {
   "cell_type": "markdown",
   "metadata": {
    "id": "ue9FbYSHNLP9"
   },
   "source": [
    "Muy bien, ya tenemos la función `train_loop` que permite ejecutar una iteración de entrenamiento del modelo. En un momento la usaremos.\n",
    "\n",
    "La idea es que en cada iteración, además de entrenar el modelo, lo validemos. La validación consiste simplemente en:\n",
    "\n",
    "1. Tomar el modelo entrenado y generar predicciones **con el set de validación**\n",
    "2. Con las predicciones generadas en (1) calcular la pérdida y la exactitud del modelo\n",
    "\n",
    "Para lograr esto crearemos una segunda función que llamaremos `val_loop`. Esta función es similar a la anterior con las siguientes diferencias:\n",
    "\n",
    "- No presentaremos a la entrada de esta función el optimizador, pues no realizaremos entrenamiento\n",
    "- No ejecutaremos propagación hacia atrás, pues no realizaremos entrenamiento\n",
    "- Sólo realizaremos la propagación hacia adelante para generar las predicciones\n",
    "\n",
    "En este último caso usamos `no_grad()` para indicarle de forma explícita a Pytorch que NO calcularemos gradientes (puesto que no estamos entrenando el modelo). Esto simplifica los cálculos y agiliza la ejecución del código de validación.\n",
    "\n",
    "Veamos entonces cómo implementar `val_loop`:"
   ]
  },
  {
   "cell_type": "code",
   "execution_count": 29,
   "metadata": {
    "executionInfo": {
     "elapsed": 179,
     "status": "ok",
     "timestamp": 1709239533916,
     "user": {
      "displayName": "Miguel Sotaquirá",
      "userId": "16233284746872182672"
     },
     "user_tz": 300
    },
    "id": "F2wFBPpmNl3W"
   },
   "outputs": [],
   "source": [
    "def val_loop(dataloader, model, loss_fn):\n",
    "    # Cantidad de datos de validación y cantidad de lotes\n",
    "    val_size = len(dataloader.dataset)\n",
    "    nlotes = len(dataloader)\n",
    "\n",
    "    # Indicarle a Pytorch que validaremos el modelo\n",
    "    model.eval()\n",
    "\n",
    "    # Inicializar acumuladores pérdida y exactitud\n",
    "    perdida_val, exactitud = 0, 0\n",
    "\n",
    "    # Evaluar (generar predicciones) usando \"no_grad\"\n",
    "    with torch.no_grad():\n",
    "        for X, y in dataloader:\n",
    "            # Mover \"X\" y \"y\" a la GPU\n",
    "            X, y = X.to(device), y.to(device)\n",
    "\n",
    "            # Propagación hacia adelante (predicciones)\n",
    "            logits = model(X)\n",
    "\n",
    "            # Acumular valores de pérdida y exactitud\n",
    "            perdida_val += loss_fn(logits, y).item()\n",
    "            exactitud += (logits.argmax(1) == y).type(torch.float).sum().item()\n",
    "\n",
    "    # Tras generar las predicciones calcular promedios de pérdida y exactitud\n",
    "    perdida_val /= nlotes\n",
    "    exactitud /= val_size\n",
    "\n",
    "    # E imprimir en pantalla\n",
    "    print(f\"\\t\\tValidación: {(100*exactitud):>0.1f}% / {perdida_val:>8f} \\n\")"
   ]
  },
  {
   "cell_type": "markdown",
   "metadata": {
    "id": "-omMez6IO_6Z"
   },
   "source": [
    "¡Y listo! Ya tenemos todo lo necesario para entrenar y validar nuestro modelo de Deep Learning.\n",
    "\n",
    "Sólo nos restan unas cuantas líneas de código en las cuales de forma iterativa llamaremos las dos funciones que acabamos de crear (`train_loop` y `val_loop`):"
   ]
  },
  {
   "cell_type": "code",
   "execution_count": 30,
   "metadata": {
    "colab": {
     "base_uri": "https://localhost:8080/"
    },
    "executionInfo": {
     "elapsed": 75442,
     "status": "ok",
     "timestamp": 1709239688938,
     "user": {
      "displayName": "Miguel Sotaquirá",
      "userId": "16233284746872182672"
     },
     "user_tz": 300
    },
    "id": "4hGKOAjJNYq-",
    "outputId": "b71388de-6baf-40c6-fd53-fedcfd4d3291"
   },
   "outputs": [
    {
     "name": "stdout",
     "output_type": "stream",
     "text": [
      "Iteración 1/10\n",
      "-------------------------------\n",
      "\tPérdida: 2.306079  [    0/48000]\n",
      "\tPérdida: 2.152023  [10000/48000]\n",
      "\tPérdida: 1.934167  [20000/48000]\n",
      "\tPérdida: 1.698753  [30000/48000]\n",
      "\tPérdida: 1.459207  [40000/48000]\n",
      "\tExactitud/pérdida promedio:\n",
      "\t\tEntrenamiento: 55.3% / 1.835414\n",
      "\t\tValidación: 71.7% / 1.283330 \n",
      "\n",
      "Iteración 2/10\n",
      "-------------------------------\n",
      "\tPérdida: 1.239127  [    0/48000]\n",
      "\tPérdida: 1.107620  [10000/48000]\n",
      "\tPérdida: 0.918477  [20000/48000]\n",
      "\tPérdida: 0.834119  [30000/48000]\n",
      "\tPérdida: 0.806360  [40000/48000]\n",
      "\tExactitud/pérdida promedio:\n",
      "\t\tEntrenamiento: 77.3% / 0.934018\n",
      "\t\tValidación: 80.6% / 0.722597 \n",
      "\n",
      "Iteración 3/10\n",
      "-------------------------------\n",
      "\tPérdida: 0.747941  [    0/48000]\n",
      "\tPérdida: 0.619071  [10000/48000]\n",
      "\tPérdida: 0.619623  [20000/48000]\n",
      "\tPérdida: 0.557980  [30000/48000]\n",
      "\tPérdida: 0.580324  [40000/48000]\n",
      "\tExactitud/pérdida promedio:\n",
      "\t\tEntrenamiento: 84.8% / 0.605026\n",
      "\t\tValidación: 85.9% / 0.546174 \n",
      "\n",
      "Iteración 4/10\n",
      "-------------------------------\n",
      "\tPérdida: 0.560375  [    0/48000]\n",
      "\tPérdida: 0.513927  [10000/48000]\n",
      "\tPérdida: 0.517033  [20000/48000]\n",
      "\tPérdida: 0.488448  [30000/48000]\n",
      "\tPérdida: 0.495452  [40000/48000]\n",
      "\tExactitud/pérdida promedio:\n",
      "\t\tEntrenamiento: 87.3% / 0.486735\n",
      "\t\tValidación: 87.4% / 0.468979 \n",
      "\n",
      "Iteración 5/10\n",
      "-------------------------------\n",
      "\tPérdida: 0.430331  [    0/48000]\n",
      "\tPérdida: 0.461910  [10000/48000]\n",
      "\tPérdida: 0.411848  [20000/48000]\n",
      "\tPérdida: 0.391283  [30000/48000]\n",
      "\tPérdida: 0.417033  [40000/48000]\n",
      "\tExactitud/pérdida promedio:\n",
      "\t\tEntrenamiento: 88.4% / 0.430740\n",
      "\t\tValidación: 88.2% / 0.428003 \n",
      "\n",
      "Iteración 6/10\n",
      "-------------------------------\n",
      "\tPérdida: 0.408472  [    0/48000]\n",
      "\tPérdida: 0.393954  [10000/48000]\n",
      "\tPérdida: 0.422037  [20000/48000]\n",
      "\tPérdida: 0.373496  [30000/48000]\n",
      "\tPérdida: 0.392132  [40000/48000]\n",
      "\tExactitud/pérdida promedio:\n",
      "\t\tEntrenamiento: 89.0% / 0.398932\n",
      "\t\tValidación: 88.7% / 0.404030 \n",
      "\n",
      "Iteración 7/10\n",
      "-------------------------------\n",
      "\tPérdida: 0.443444  [    0/48000]\n",
      "\tPérdida: 0.378507  [10000/48000]\n",
      "\tPérdida: 0.356626  [20000/48000]\n",
      "\tPérdida: 0.390746  [30000/48000]\n",
      "\tPérdida: 0.370010  [40000/48000]\n",
      "\tExactitud/pérdida promedio:\n",
      "\t\tEntrenamiento: 89.5% / 0.377601\n",
      "\t\tValidación: 88.8% / 0.386546 \n",
      "\n",
      "Iteración 8/10\n",
      "-------------------------------\n",
      "\tPérdida: 0.375413  [    0/48000]\n",
      "\tPérdida: 0.346228  [10000/48000]\n",
      "\tPérdida: 0.350961  [20000/48000]\n",
      "\tPérdida: 0.390044  [30000/48000]\n",
      "\tPérdida: 0.312726  [40000/48000]\n",
      "\tExactitud/pérdida promedio:\n",
      "\t\tEntrenamiento: 89.9% / 0.362329\n",
      "\t\tValidación: 89.4% / 0.372622 \n",
      "\n",
      "Iteración 9/10\n",
      "-------------------------------\n",
      "\tPérdida: 0.317439  [    0/48000]\n",
      "\tPérdida: 0.357240  [10000/48000]\n",
      "\tPérdida: 0.333987  [20000/48000]\n",
      "\tPérdida: 0.334158  [30000/48000]\n",
      "\tPérdida: 0.357564  [40000/48000]\n",
      "\tExactitud/pérdida promedio:\n",
      "\t\tEntrenamiento: 90.1% / 0.350827\n",
      "\t\tValidación: 89.7% / 0.362075 \n",
      "\n",
      "Iteración 10/10\n",
      "-------------------------------\n",
      "\tPérdida: 0.383717  [    0/48000]\n",
      "\tPérdida: 0.299595  [10000/48000]\n",
      "\tPérdida: 0.329352  [20000/48000]\n",
      "\tPérdida: 0.323484  [30000/48000]\n",
      "\tPérdida: 0.370188  [40000/48000]\n",
      "\tExactitud/pérdida promedio:\n",
      "\t\tEntrenamiento: 90.4% / 0.341462\n",
      "\t\tValidación: 89.9% / 0.353772 \n",
      "\n",
      "Listo, el modelo ha sido entrenado!\n"
     ]
    }
   ],
   "source": [
    "for t in range(EPOCHS):\n",
    "    print(f\"Iteración {t+1}/{EPOCHS}\\n-------------------------------\")\n",
    "    # Entrenar\n",
    "    train_loop(train_loader, modelo, fn_perdida, optimizador)\n",
    "    # Validar\n",
    "    val_loop(val_loader, modelo, fn_perdida)\n",
    "print(\"Listo, el modelo ha sido entrenado!\")"
   ]
  },
  {
   "cell_type": "markdown",
   "metadata": {
    "id": "tpDxKxj8PrPy"
   },
   "source": [
    "¡Perfecto! En este punto ya hemos entrenado y validado nuestro modelo.\n",
    "\n",
    "Podemos ver que en la iteración 10 se tiene una exactitud de casi el 90% con ambos sets (entrenamiento y validación). Así que podemos decir que nuestro modelo esta generando buenas predicciones y que no tiene *overfitting*.\n",
    "\n",
    "Sólo nos resta tomar el modelo entrenado y generar predicciones. Veamos cómo hacerlo."
   ]
  },
  {
   "cell_type": "markdown",
   "metadata": {
    "id": "iTwsL-8OP6ys"
   },
   "source": [
    "## 8. Generando predicciones con el modelo entrenado\n",
    "\n",
    "Habiendo entrenado el modelo ya podemos comenzar a usarlo para generar predicciones.\n",
    "\n",
    "Estas predicciones implican que debemos introducir una imagen y el modelo debe predecir la categoría a la que pertenece.\n",
    "\n",
    "Para ello crearemos una sencilla función (`predecir`) con estas características:\n",
    "\n",
    "- Entradas: el modelo entrenado y una imagen\n",
    "- Salida: mostrará en pantalla la imagen original y la categoría predicha\n",
    "\n",
    "Veamos cómo crear esta función:"
   ]
  },
  {
   "cell_type": "code",
   "execution_count": 31,
   "metadata": {
    "executionInfo": {
     "elapsed": 195,
     "status": "ok",
     "timestamp": 1709239836098,
     "user": {
      "displayName": "Miguel Sotaquirá",
      "userId": "16233284746872182672"
     },
     "user_tz": 300
    },
    "id": "kkhxv426NZ-R"
   },
   "outputs": [],
   "source": [
    "def predecir(model, img):\n",
    "    # Generar predicción\n",
    "    logits = model(img)\n",
    "    y_pred = logits.argmax(1).item()\n",
    "\n",
    "    # Mostrar imagen original y categoría predicha\n",
    "    plt.imshow(img.cpu().squeeze(), cmap=\"gray\")\n",
    "    plt.title(f'Categoría predicha: {y_pred}');"
   ]
  },
  {
   "cell_type": "markdown",
   "metadata": {
    "id": "T7ialA92QzQc"
   },
   "source": [
    "Y pongamos a prueba esta función. Acá la idea es usar imágenes que nunca haya \"visto\" el modelo, es decir por ejemplo imágenes del set de prueba:"
   ]
  },
  {
   "cell_type": "code",
   "execution_count": 35,
   "metadata": {
    "colab": {
     "base_uri": "https://localhost:8080/",
     "height": 453
    },
    "executionInfo": {
     "elapsed": 946,
     "status": "ok",
     "timestamp": 1709239898060,
     "user": {
      "displayName": "Miguel Sotaquirá",
      "userId": "16233284746872182672"
     },
     "user_tz": 300
    },
    "id": "0sUhLca1cpT6",
    "outputId": "41a7b54b-1edf-423c-9ec6-d673b3a2c88e"
   },
   "outputs": [
    {
     "data": {
      "image/png": "[encoded data removed]",
      "text/plain": [
       "<Figure size 640x480 with 1 Axes>"
      ]
     },
     "metadata": {},
     "output_type": "display_data"
    }
   ],
   "source": [
    "# Tomar una imagen del set de prueba\n",
    "img, lbl = test[1235]\n",
    "\n",
    "# Y generar la predicción\n",
    "predecir(modelo, img)"
   ]
  }
 ],
 "metadata": {
  "colab": {
   "authorship_tag": "ABX9TyNWf/N2TxFBkD5oZwwjP9Ks",
   "provenance": []
  },
  "kernelspec": {
   "display_name": "Python 3",
   "name": "python3"
  },
  "language_info": {
   "name": "python"
  }
 },
 "nbformat": 4,
 "nbformat_minor": 0
}
